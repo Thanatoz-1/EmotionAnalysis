{
 "cells": [
  {
   "cell_type": "markdown",
   "id": "602c1619",
   "metadata": {},
   "source": [
    "# Emotion Analysis assignment 2\n",
    "In this assignment we are going to perform "
   ]
  },
  {
   "cell_type": "markdown",
   "id": "52b19999",
   "metadata": {},
   "source": [
    "## Imports and parameters"
   ]
  },
  {
   "cell_type": "code",
   "execution_count": 1,
   "id": "f66239ad",
   "metadata": {},
   "outputs": [
    {
     "name": "stderr",
     "output_type": "stream",
     "text": [
      "/tmp/ipykernel_1499364/1574673180.py:2: TqdmWarning: IProgress not found. Please update jupyter and ipywidgets. See https://ipywidgets.readthedocs.io/en/stable/user_install.html\n",
      "  from tqdm.autonotebook import tqdm\n"
     ]
    }
   ],
   "source": [
    "import os\n",
    "from tqdm.autonotebook import tqdm\n",
    "import pandas as pd\n",
    "import numpy as np\n",
    "from matplotlib import pyplot as plt"
   ]
  },
  {
   "cell_type": "code",
   "execution_count": 2,
   "id": "9f7327bb",
   "metadata": {},
   "outputs": [],
   "source": [
    "# glove_path = \"/mnt/d/Downloads/glove.6B.100d.txt\"\n",
    "# dataset_path = \"/mnt/e/Mastering Computational Linguistics/Semester 4/Emotion analysis/Assignments/Assignment2/data/unified-dataset.tsv\"\n",
    "\n",
    "glove_path = \"./glove.6B.100d.txt\"\n",
    "dataset_path = \"./data/unified-dataset.tsv\""
   ]
  },
  {
   "cell_type": "markdown",
   "id": "e97d2a05",
   "metadata": {},
   "source": [
    "## Exploring the dataset"
   ]
  },
  {
   "cell_type": "code",
   "execution_count": 3,
   "id": "cc11e026",
   "metadata": {},
   "outputs": [
    {
     "name": "stderr",
     "output_type": "stream",
     "text": [
      "/tmp/ipykernel_1499364/1095128175.py:1: FutureWarning: The error_bad_lines argument has been deprecated and will be removed in a future version. Use on_bad_lines in the future.\n",
      "\n",
      "\n",
      "  data = pd.read_csv(dataset_path, sep=\"\\t\", header=None, error_bad_lines=False, names=[\"index\", \"ds\", \"tweet\", \"emotion\"])\n",
      "Skipping line 4829: expected 4 fields, saw 5\n",
      "Skipping line 18068: expected 4 fields, saw 6\n",
      "Skipping line 19349: expected 4 fields, saw 5\n",
      "Skipping line 129300: expected 4 fields, saw 9\n",
      "Skipping line 129336: expected 4 fields, saw 7\n",
      "Skipping line 129411: expected 4 fields, saw 6\n",
      "Skipping line 129734: expected 4 fields, saw 5\n",
      "Skipping line 129772: expected 4 fields, saw 6\n",
      "Skipping line 129876: expected 4 fields, saw 5\n",
      "Skipping line 129921: expected 4 fields, saw 8\n",
      "Skipping line 130021: expected 4 fields, saw 6\n",
      "Skipping line 130075: expected 4 fields, saw 6\n",
      "Skipping line 130184: expected 4 fields, saw 6\n",
      "Skipping line 130278: expected 4 fields, saw 6\n",
      "Skipping line 130381: expected 4 fields, saw 6\n",
      "Skipping line 130407: expected 4 fields, saw 6\n",
      "Skipping line 130457: expected 4 fields, saw 13\n",
      "Skipping line 130507: expected 4 fields, saw 5\n",
      "Skipping line 130654: expected 4 fields, saw 7\n",
      "Skipping line 130800: expected 4 fields, saw 5\n",
      "Skipping line 130868: expected 4 fields, saw 5\n",
      "Skipping line 130893: expected 4 fields, saw 11\n",
      "Skipping line 130967: expected 4 fields, saw 7\n",
      "\n",
      "Skipping line 131138: expected 4 fields, saw 5\n",
      "Skipping line 131178: expected 4 fields, saw 5\n",
      "Skipping line 131366: expected 4 fields, saw 6\n",
      "Skipping line 131649: expected 4 fields, saw 7\n",
      "Skipping line 132072: expected 4 fields, saw 5\n",
      "Skipping line 179374: expected 4 fields, saw 5\n",
      "Skipping line 199963: expected 4 fields, saw 5\n",
      "\n"
     ]
    },
    {
     "data": {
      "text/html": [
       "<div>\n",
       "<style scoped>\n",
       "    .dataframe tbody tr th:only-of-type {\n",
       "        vertical-align: middle;\n",
       "    }\n",
       "\n",
       "    .dataframe tbody tr th {\n",
       "        vertical-align: top;\n",
       "    }\n",
       "\n",
       "    .dataframe thead th {\n",
       "        text-align: right;\n",
       "    }\n",
       "</style>\n",
       "<table border=\"1\" class=\"dataframe\">\n",
       "  <thead>\n",
       "    <tr style=\"text-align: right;\">\n",
       "      <th></th>\n",
       "      <th>index</th>\n",
       "      <th>ds</th>\n",
       "      <th>tweet</th>\n",
       "      <th>emotion</th>\n",
       "    </tr>\n",
       "  </thead>\n",
       "  <tbody>\n",
       "    <tr>\n",
       "      <th>0</th>\n",
       "      <td>0</td>\n",
       "      <td>tec</td>\n",
       "      <td>Thinks that @melbahughes had a great 50th birt...</td>\n",
       "      <td>surprise</td>\n",
       "    </tr>\n",
       "    <tr>\n",
       "      <th>1</th>\n",
       "      <td>1</td>\n",
       "      <td>tec</td>\n",
       "      <td>Como una expresión tan simple, una sola oració...</td>\n",
       "      <td>sadness</td>\n",
       "    </tr>\n",
       "    <tr>\n",
       "      <th>2</th>\n",
       "      <td>2</td>\n",
       "      <td>tec</td>\n",
       "      <td>the moment when you get another follower and y...</td>\n",
       "      <td>joy</td>\n",
       "    </tr>\n",
       "    <tr>\n",
       "      <th>3</th>\n",
       "      <td>3</td>\n",
       "      <td>tec</td>\n",
       "      <td>Be the greatest dancer of your life! practice ...</td>\n",
       "      <td>joy</td>\n",
       "    </tr>\n",
       "    <tr>\n",
       "      <th>4</th>\n",
       "      <td>4</td>\n",
       "      <td>tec</td>\n",
       "      <td>eww.. my moms starting to make her annual rum ...</td>\n",
       "      <td>disgust</td>\n",
       "    </tr>\n",
       "  </tbody>\n",
       "</table>\n",
       "</div>"
      ],
      "text/plain": [
       "   index   ds                                              tweet   emotion\n",
       "0      0  tec  Thinks that @melbahughes had a great 50th birt...  surprise\n",
       "1      1  tec  Como una expresión tan simple, una sola oració...   sadness\n",
       "2      2  tec  the moment when you get another follower and y...       joy\n",
       "3      3  tec  Be the greatest dancer of your life! practice ...       joy\n",
       "4      4  tec  eww.. my moms starting to make her annual rum ...   disgust"
      ]
     },
     "execution_count": 3,
     "metadata": {},
     "output_type": "execute_result"
    }
   ],
   "source": [
    "data = pd.read_csv(dataset_path, sep=\"\\t\", header=None, error_bad_lines=False, names=[\"index\", \"ds\", \"tweet\", \"emotion\"])\n",
    "data.head()"
   ]
  },
  {
   "cell_type": "code",
   "execution_count": 4,
   "id": "90772040",
   "metadata": {},
   "outputs": [
    {
     "data": {
      "text/plain": [
       "dailydialogues             102979\n",
       "crowdflower                 39738\n",
       "tec                         21048\n",
       "tales-emotion               13693\n",
       "isear                        7666\n",
       "emoint                       7102\n",
       "ssec                         4868\n",
       "electoraltweets              4056\n",
       "emotiondata-aman             4025\n",
       "fb-valence-arousal-anon      2871\n",
       "grounded_emotions            2585\n",
       "emotion-cause                2397\n",
       "affectivetext                1249\n",
       "Name: ds, dtype: int64"
      ]
     },
     "execution_count": 4,
     "metadata": {},
     "output_type": "execute_result"
    }
   ],
   "source": [
    "data[\"ds\"].value_counts()"
   ]
  },
  {
   "cell_type": "code",
   "execution_count": 5,
   "id": "30a9c794",
   "metadata": {},
   "outputs": [
    {
     "data": {
      "text/plain": [
       "noemo       9370\n",
       "joy         9220\n",
       "fear        8428\n",
       "sadness     5123\n",
       "love        3820\n",
       "surprise    2177\n",
       "anger       1421\n",
       "disgust      179\n",
       "Name: emotion, dtype: int64"
      ]
     },
     "execution_count": 5,
     "metadata": {},
     "output_type": "execute_result"
    }
   ],
   "source": [
    "data[data.ds==\"crowdflower\"][\"emotion\"].value_counts()"
   ]
  },
  {
   "cell_type": "code",
   "execution_count": 6,
   "id": "b627a250",
   "metadata": {},
   "outputs": [
    {
     "data": {
      "text/plain": [
       "noemo       85572\n",
       "joy         12885\n",
       "surprise     1823\n",
       "sadness      1150\n",
       "anger        1022\n",
       "disgust       353\n",
       "fear          174\n",
       "Name: emotion, dtype: int64"
      ]
     },
     "execution_count": 6,
     "metadata": {},
     "output_type": "execute_result"
    }
   ],
   "source": [
    "data[data.ds==\"dailydialogues\"][\"emotion\"].value_counts()"
   ]
  },
  {
   "cell_type": "code",
   "execution_count": 7,
   "id": "f9584cd9",
   "metadata": {},
   "outputs": [
    {
     "data": {
      "text/html": [
       "<div>\n",
       "<style scoped>\n",
       "    .dataframe tbody tr th:only-of-type {\n",
       "        vertical-align: middle;\n",
       "    }\n",
       "\n",
       "    .dataframe tbody tr th {\n",
       "        vertical-align: top;\n",
       "    }\n",
       "\n",
       "    .dataframe thead th {\n",
       "        text-align: right;\n",
       "    }\n",
       "</style>\n",
       "<table border=\"1\" class=\"dataframe\">\n",
       "  <thead>\n",
       "    <tr style=\"text-align: right;\">\n",
       "      <th></th>\n",
       "      <th>index</th>\n",
       "      <th>ds</th>\n",
       "      <th>tweet</th>\n",
       "      <th>emotion</th>\n",
       "    </tr>\n",
       "  </thead>\n",
       "  <tbody>\n",
       "    <tr>\n",
       "      <th>0</th>\n",
       "      <td>137133</td>\n",
       "      <td>electoraltweets</td>\n",
       "      <td>I'm a #Republican, but if I have to hear my mo...</td>\n",
       "      <td>disgust</td>\n",
       "    </tr>\n",
       "    <tr>\n",
       "      <th>1</th>\n",
       "      <td>137134</td>\n",
       "      <td>electoraltweets</td>\n",
       "      <td>Will Obama fire the person responsible for thi...</td>\n",
       "      <td>anger</td>\n",
       "    </tr>\n",
       "    <tr>\n",
       "      <th>2</th>\n",
       "      <td>137135</td>\n",
       "      <td>electoraltweets</td>\n",
       "      <td>haha @DickMorrisTweet Romney is going to have ...</td>\n",
       "      <td>anger</td>\n",
       "    </tr>\n",
       "    <tr>\n",
       "      <th>3</th>\n",
       "      <td>137136</td>\n",
       "      <td>electoraltweets</td>\n",
       "      <td>S/0 to my newest @freeboosieRS &amp;amp vote for O...</td>\n",
       "      <td>anticipation</td>\n",
       "    </tr>\n",
       "    <tr>\n",
       "      <th>4</th>\n",
       "      <td>137137</td>\n",
       "      <td>electoraltweets</td>\n",
       "      <td>Nicki Minaj Fucked Up With That Mitt Romney Li...</td>\n",
       "      <td>anger</td>\n",
       "    </tr>\n",
       "  </tbody>\n",
       "</table>\n",
       "</div>"
      ],
      "text/plain": [
       "    index               ds                                              tweet  \\\n",
       "0  137133  electoraltweets  I'm a #Republican, but if I have to hear my mo...   \n",
       "1  137134  electoraltweets  Will Obama fire the person responsible for thi...   \n",
       "2  137135  electoraltweets  haha @DickMorrisTweet Romney is going to have ...   \n",
       "3  137136  electoraltweets  S/0 to my newest @freeboosieRS &amp vote for O...   \n",
       "4  137137  electoraltweets  Nicki Minaj Fucked Up With That Mitt Romney Li...   \n",
       "\n",
       "        emotion  \n",
       "0       disgust  \n",
       "1         anger  \n",
       "2         anger  \n",
       "3  anticipation  \n",
       "4         anger  "
      ]
     },
     "execution_count": 7,
     "metadata": {},
     "output_type": "execute_result"
    }
   ],
   "source": [
    "dataset_name = \"electoraltweets\"\n",
    "split = data[data.ds == dataset_name].reset_index(drop=True)\n",
    "split.head()"
   ]
  },
  {
   "cell_type": "code",
   "execution_count": 9,
   "id": "9ccd3831",
   "metadata": {},
   "outputs": [],
   "source": [
    "import re\n",
    "from nltk.stem import WordNetLemmatizer\n",
    "\n",
    "def find_mention(text:str, replacement:str=\"Person\"):\n",
    "    \"\"\"\n",
    "    Find the mentions and replace it by person by default.\n",
    "    \"\"\"\n",
    "    rex = re.compile(r\"\\B@(\\w+)\")\n",
    "    mention = bool(re.search(rex, text))\n",
    "    return mention\n",
    "\n",
    "def clean_mention(text:str, replacement:str=\"Person\"):\n",
    "    \"\"\"\n",
    "    Clean the mentions and replace it by person by default.\n",
    "    \"\"\"\n",
    "    rex = re.compile(r\"\\B@(\\w+)\")\n",
    "    cleaned = re.sub(rex, replacement, string=text)\n",
    "    return cleaned\n",
    "\n",
    "def find_hashtag(text:str, replacement:str=\"\"):\n",
    "    \"\"\"\n",
    "    Finds the hashtags completely. \n",
    "    This is especially useful to test the influence of hashtags on outcome.\n",
    "    \"\"\"\n",
    "    rex = re.compile(r\"\\B#(\\w+)\")\n",
    "    mention = bool(re.search(rex, text))\n",
    "    return mention\n",
    "\n",
    "def clean_hashtags(text:str, replacement:str=\"\"):\n",
    "    \"\"\"\n",
    "    Removes the hashtags completely. \n",
    "    This is especially useful to test the influence of hashtags on outcome.\n",
    "    \"\"\"\n",
    "    rex = re.compile(r\"\\B#(\\w+)\")\n",
    "    cleaned = re.sub(rex, replacement, string=text)\n",
    "    return cleaned\n",
    "\n",
    "def clean_puncts(text:str, replacement:str=\" \"):\n",
    "    \"\"\"\n",
    "    \n",
    "    \"\"\"\n",
    "    rex = re.compile(r\"[^\\w\\s]\")\n",
    "    mention = bool(re.search(rex, text))\n",
    "    cleaned = re.sub(rex, replacement, string=text)\n",
    "    return mention, \" \".join(cleaned.split())\n",
    "\n",
    "def make_lower(text: str):\n",
    "    \"\"\"\n",
    "    Make the text lower case. \n",
    "    \"\"\"\n",
    "    return text.lower()\n",
    "\n",
    "# lemmatizer = WordNetLemmatizer()\n",
    "# def lemmetize_sentence(text:str, **kwargs):\n",
    "#     lemmetized = \" \".join([lemmatizer.lemmatize(t, **kwargs) for t in text.split()])\n",
    "#     return lemmetized\n",
    "\n",
    "# lemmetize_sentence(\"haha! @DickMorrisTweet Romney is going to have [email](tushar123@gmail.com). #getme #another-time;\")"
   ]
  },
  {
   "cell_type": "code",
   "execution_count": 10,
   "id": "5bfdeb0a",
   "metadata": {},
   "outputs": [],
   "source": [
    "class Preprocessor:\n",
    "    def __init__(self, path: str, tokenizer):\n",
    "        \"\"\"\n",
    "        Text preprocessor class. \n",
    "        Args:\n",
    "            path: str = path of the glove embeddings\n",
    "        \"\"\"\n",
    "        self.word_to_embedding = self.load_glove(path)\n",
    "        self.token_to_id = {v:k for k,v in enumerate(list(self.word_to_embedding.keys()))}\n",
    "        self.tokenizer = tokenizer\n",
    "        \n",
    "    def load_glove(self, path, words=None):\n",
    "        word_to_embedding = {}\n",
    "        p = os.popen(f'wc -l {glove_path}').read()\n",
    "        lines = int(p.split(\" \")[0])\n",
    "        with  open(path, 'r') as stream:\n",
    "            for n, line in tqdm(enumerate(stream), total=lines):\n",
    "                if not isinstance(line, str):\n",
    "                    line = line.decode('utf-8')\n",
    "                split_line = line.split(' ')\n",
    "                word = split_line[0]\n",
    "\n",
    "                if words is None or word in words:\n",
    "                    try:\n",
    "                        word_to_embedding[word] = [float(f) for f in split_line[1:]]\n",
    "                    except ValueError:\n",
    "                        logger.error('{}\\t{}\\t{}'.format(n, word, str(split_line)))\n",
    "\n",
    "        return word_to_embedding\n",
    "    \n",
    "    def convert_token_to_id(self, token, unknown = \"unk\"):\n",
    "        if token in self.token_to_id.keys():\n",
    "            ided = self.token_to_id.get(token)\n",
    "        else:\n",
    "            ided = self.token_to_id.get(unknown)\n",
    "        return ided\n",
    "    \n",
    "    def encode_single(self, text: str, pad: bool = True):\n",
    "        tokens = self.tokenizer(text)\n",
    "        ids_out = []\n",
    "        for token in tokens:\n",
    "            ids_out.append(self.convert_token_to_id(token.text))\n",
    "        if pad:\n",
    "            ids_out = self.pad_seq(ids_out)\n",
    "        ids_out = self.get_embeddings_for_ids(ids_out)\n",
    "        return ids_out\n",
    "    \n",
    "    def pad_seq(self, tokens: list, max_length: int = 20, padding_token: str = \"pad\"):\n",
    "        tokens = tokens[:max_length]\n",
    "        if len(tokens)<max_length:\n",
    "            diff = max_length - len(tokens)\n",
    "            tokens += [self.token_to_id.get(padding_token)]*diff\n",
    "        return tokens\n",
    "    \n",
    "    def decoder(self, encoded: list):\n",
    "        decoded = [list(self.token_to_id.keys())[i] for i in encoded]\n",
    "        return decoded\n",
    "    \n",
    "    def decoder_single(self, encoded: list):\n",
    "        decoded = list(self.token_to_id.keys())[encoded]\n",
    "        return decoded\n",
    "    \n",
    "    def get_embeddings_for_ids(self, embed_ids):\n",
    "        out = [self.word_to_embedding.get(self.decoder_single(i)) for i in embed_ids]\n",
    "        return out"
   ]
  },
  {
   "cell_type": "code",
   "execution_count": 11,
   "id": "34b373c5",
   "metadata": {},
   "outputs": [],
   "source": [
    "from spacy.tokenizer import Tokenizer\n",
    "from spacy.lang.en import English\n",
    "from sklearn import preprocessing\n",
    "\n",
    "nlp = English()\n",
    "tokenizer = nlp.tokenizer"
   ]
  },
  {
   "cell_type": "code",
   "execution_count": 12,
   "id": "ac78f09e",
   "metadata": {},
   "outputs": [
    {
     "name": "stderr",
     "output_type": "stream",
     "text": [
      "100%|██████████| 400000/400000 [00:10<00:00, 39369.31it/s]\n"
     ]
    }
   ],
   "source": [
    "processor = Preprocessor(glove_path, tokenizer=tokenizer)"
   ]
  },
  {
   "cell_type": "code",
   "execution_count": 94,
   "id": "7f245d14",
   "metadata": {},
   "outputs": [],
   "source": [
    "# print(processor.encode_single(\"some random testing for the tokenzier\", pad=True))\n",
    "# processor.decoder(processor.encode_single(\"some random testing for the tokenzier\", pad=False))"
   ]
  },
  {
   "cell_type": "code",
   "execution_count": 14,
   "id": "f7aff73d",
   "metadata": {},
   "outputs": [
    {
     "name": "stderr",
     "output_type": "stream",
     "text": [
      "/tmp/ipykernel_1499364/2748699308.py:13: DeprecationWarning: `set_matplotlib_formats` is deprecated since IPython 7.23, directly use `matplotlib_inline.backend_inline.set_matplotlib_formats()`\n",
      "  set_matplotlib_formats(\"svg\", \"pdf\")  # For export\n"
     ]
    }
   ],
   "source": [
    "from IPython.display import set_matplotlib_formats\n",
    "\n",
    "# Train a model\n",
    "from sklearn.ensemble import RandomForestClassifier\n",
    "from sklearn.svm import SVC\n",
    "from sklearn.tree import DecisionTreeClassifier\n",
    "from sklearn.cluster import KMeans\n",
    "from sklearn.model_selection import train_test_split\n",
    "\n",
    "from sklearn import metrics\n",
    "import seaborn as sns\n",
    "\n",
    "set_matplotlib_formats(\"svg\", \"pdf\")  # For export\n",
    "sns.set()"
   ]
  },
  {
   "cell_type": "code",
   "execution_count": 15,
   "id": "b39671a6",
   "metadata": {},
   "outputs": [
    {
     "data": {
      "text/plain": [
       "((3244,), (811,), (3244,), (811,))"
      ]
     },
     "execution_count": 15,
     "metadata": {},
     "output_type": "execute_result"
    }
   ],
   "source": [
    "# Do a single split of dataset\n",
    "split = split[split.emotion!=\"noemo\"]  # remove noemo as there is not much data\n",
    "trainx, testx, trainy, testy = train_test_split(split.tweet, split.emotion, stratify=split.emotion, test_size=0.2)\n",
    "trainx.shape, testx.shape, trainy.shape, testy.shape"
   ]
  },
  {
   "cell_type": "code",
   "execution_count": 16,
   "id": "7ccea771",
   "metadata": {},
   "outputs": [],
   "source": [
    "# Tokenize the dataset and get the converted data\n",
    "\n",
    "label_encoder = preprocessing.LabelEncoder()\n",
    "label_encoder.fit(split.emotion)\n",
    "\n",
    "def get_converted_data(texts: list, labels: list):\n",
    "    dataset = []\n",
    "    for sent in texts:\n",
    "        dataset.append(processor.encode_single(sent))\n",
    "    dataset = np.array(dataset)\n",
    "\n",
    "    # Categorize and encode the labels\n",
    "    labels = label_encoder.transform(labels)\n",
    "    return dataset, labels"
   ]
  },
  {
   "cell_type": "code",
   "execution_count": 17,
   "id": "686c9cba",
   "metadata": {},
   "outputs": [
    {
     "data": {
      "text/html": [
       "<div>\n",
       "<style scoped>\n",
       "    .dataframe tbody tr th:only-of-type {\n",
       "        vertical-align: middle;\n",
       "    }\n",
       "\n",
       "    .dataframe tbody tr th {\n",
       "        vertical-align: top;\n",
       "    }\n",
       "\n",
       "    .dataframe thead th {\n",
       "        text-align: right;\n",
       "    }\n",
       "</style>\n",
       "<table border=\"1\" class=\"dataframe\">\n",
       "  <thead>\n",
       "    <tr style=\"text-align: right;\">\n",
       "      <th></th>\n",
       "      <th>emotion</th>\n",
       "    </tr>\n",
       "  </thead>\n",
       "  <tbody>\n",
       "    <tr>\n",
       "      <th>disgust</th>\n",
       "      <td>1311</td>\n",
       "    </tr>\n",
       "    <tr>\n",
       "      <th>trust</th>\n",
       "      <td>646</td>\n",
       "    </tr>\n",
       "    <tr>\n",
       "      <th>anger</th>\n",
       "      <td>455</td>\n",
       "    </tr>\n",
       "    <tr>\n",
       "      <th>joy</th>\n",
       "      <td>279</td>\n",
       "    </tr>\n",
       "    <tr>\n",
       "      <th>anticipation</th>\n",
       "      <td>254</td>\n",
       "    </tr>\n",
       "    <tr>\n",
       "      <th>surprise,confusion</th>\n",
       "      <td>103</td>\n",
       "    </tr>\n",
       "    <tr>\n",
       "      <th>surprise</th>\n",
       "      <td>98</td>\n",
       "    </tr>\n",
       "    <tr>\n",
       "      <th>fear</th>\n",
       "      <td>73</td>\n",
       "    </tr>\n",
       "    <tr>\n",
       "      <th>sadness</th>\n",
       "      <td>25</td>\n",
       "    </tr>\n",
       "  </tbody>\n",
       "</table>\n",
       "</div>"
      ],
      "text/plain": [
       "                    emotion\n",
       "disgust                1311\n",
       "trust                   646\n",
       "anger                   455\n",
       "joy                     279\n",
       "anticipation            254\n",
       "surprise,confusion      103\n",
       "surprise                 98\n",
       "fear                     73\n",
       "sadness                  25"
      ]
     },
     "execution_count": 17,
     "metadata": {},
     "output_type": "execute_result"
    }
   ],
   "source": [
    "# COunt of training data-points per class\n",
    "pd.DataFrame(trainy.value_counts())"
   ]
  },
  {
   "cell_type": "code",
   "execution_count": 18,
   "id": "3f1bfabf",
   "metadata": {},
   "outputs": [
    {
     "data": {
      "text/html": [
       "<div>\n",
       "<style scoped>\n",
       "    .dataframe tbody tr th:only-of-type {\n",
       "        vertical-align: middle;\n",
       "    }\n",
       "\n",
       "    .dataframe tbody tr th {\n",
       "        vertical-align: top;\n",
       "    }\n",
       "\n",
       "    .dataframe thead th {\n",
       "        text-align: right;\n",
       "    }\n",
       "</style>\n",
       "<table border=\"1\" class=\"dataframe\">\n",
       "  <thead>\n",
       "    <tr style=\"text-align: right;\">\n",
       "      <th></th>\n",
       "      <th>emotion</th>\n",
       "    </tr>\n",
       "  </thead>\n",
       "  <tbody>\n",
       "    <tr>\n",
       "      <th>disgust</th>\n",
       "      <td>327</td>\n",
       "    </tr>\n",
       "    <tr>\n",
       "      <th>trust</th>\n",
       "      <td>162</td>\n",
       "    </tr>\n",
       "    <tr>\n",
       "      <th>anger</th>\n",
       "      <td>114</td>\n",
       "    </tr>\n",
       "    <tr>\n",
       "      <th>joy</th>\n",
       "      <td>70</td>\n",
       "    </tr>\n",
       "    <tr>\n",
       "      <th>anticipation</th>\n",
       "      <td>64</td>\n",
       "    </tr>\n",
       "    <tr>\n",
       "      <th>surprise,confusion</th>\n",
       "      <td>26</td>\n",
       "    </tr>\n",
       "    <tr>\n",
       "      <th>surprise</th>\n",
       "      <td>24</td>\n",
       "    </tr>\n",
       "    <tr>\n",
       "      <th>fear</th>\n",
       "      <td>18</td>\n",
       "    </tr>\n",
       "    <tr>\n",
       "      <th>sadness</th>\n",
       "      <td>6</td>\n",
       "    </tr>\n",
       "  </tbody>\n",
       "</table>\n",
       "</div>"
      ],
      "text/plain": [
       "                    emotion\n",
       "disgust                 327\n",
       "trust                   162\n",
       "anger                   114\n",
       "joy                      70\n",
       "anticipation             64\n",
       "surprise,confusion       26\n",
       "surprise                 24\n",
       "fear                     18\n",
       "sadness                   6"
      ]
     },
     "execution_count": 18,
     "metadata": {},
     "output_type": "execute_result"
    }
   ],
   "source": [
    "# Count of testing data-points per class\n",
    "pd.DataFrame(testy.value_counts())"
   ]
  },
  {
   "cell_type": "code",
   "execution_count": 22,
   "id": "9c746e5d",
   "metadata": {},
   "outputs": [],
   "source": [
    "models = [\n",
    "    # DecisionTreeClassifier(criterion=\"gini\", splitter=\"best\", max_depth=25),\n",
    "    RandomForestClassifier(n_estimators=250, criterion=\"entropy\", max_depth=25),\n",
    "    SVC(C=2, kernel='poly'),\n",
    "]"
   ]
  },
  {
   "cell_type": "code",
   "execution_count": 23,
   "id": "025e456c",
   "metadata": {
    "scrolled": false
   },
   "outputs": [],
   "source": [
    "## Original metrics\n",
    "confusion_metrics = {}\n",
    "for model in models:\n",
    "    train_x, train_y = get_converted_data(trainx, trainy)\n",
    "    test_x, test_y = get_converted_data(testx, testy)\n",
    "    print(f\"Started training for {model}\")\n",
    "    model.fit(train_x, train_y) \n",
    "    \n",
    "    outcome = model.predict(test_x)  # Make it test data\n",
    "    print(f\"Performance in model: {model}\")\n",
    "    print(metrics.classification_report(test_y, outcome, target_names=label_encoder.classes_, zero_division=True))\n",
    "    confusion_metrics[str(model).replace(\"()\", \"\")] = metrics.confusion_matrix(\n",
    "        test_y, \n",
    "        outcome,\n",
    "        normalize=\"pred\"\n",
    "    )"
   ]
  },
  {
   "cell_type": "code",
   "execution_count": 69,
   "id": "93f4ae3c",
   "metadata": {},
   "outputs": [
    {
     "data": {
      "text/plain": [
       "dict_keys(['DecisionTreeClassifier(max_depth=25)', \"RandomForestClassifier(criterion='entropy', max_depth=25, n_estimators=250)\", \"SVC(C=2, kernel='poly')\"])"
      ]
     },
     "execution_count": 69,
     "metadata": {},
     "output_type": "execute_result"
    }
   ],
   "source": [
    "confusion_metrics.keys()"
   ]
  },
  {
   "cell_type": "code",
   "execution_count": 72,
   "id": "71c57f26",
   "metadata": {},
   "outputs": [
    {
     "data": {
      "text/plain": [
       "<AxesSubplot:>"
      ]
     },
     "execution_count": 72,
     "metadata": {},
     "output_type": "execute_result"
    },
    {
     "data": {
      "application/pdf": "[encoded data removed]",
      "image/svg+xml": "<?xml version=\"1.0\" encoding=\"utf-8\" standalone=\"no\"?>\n<!DOCTYPE svg PUBLIC \"-//W3C//DTD SVG 1.1//EN\"\n  \"http://www.w3.org/Graphics/SVG/1.1/DTD/svg11.dtd\">\n<svg xmlns:xlink=\"http://www.w3.org/1999/xlink\" width=\"653.234844pt\" height=\"672.540547pt\" viewBox=\"0 0 653.234844 672.540547\" xmlns=\"http://www.w3.org/2000/svg\" version=\"1.1\">\n <metadata>\n  <rdf:RDF xmlns:dc=\"http://purl.org/dc/elements/1.1/\" xmlns:cc=\"http://creativecommons.org/ns#\" xmlns:rdf=\"http://www.w3.org/1999/02/22-rdf-syntax-ns#\">\n   <cc:Work>\n    <dc:type rdf:resource=\"http://purl.org/dc/dcmitype/StillImage\"/>\n    <dc:date>2022-12-17T09:11:10.265019</dc:date>\n    <dc:format>image/svg+xml</dc:format>\n    <dc:creator>\n     <cc:Agent>\n      <dc:title>Matplotlib v3.5.1, https://matplotlib.org/</dc:title>\n     </cc:Agent>\n    </dc:creator>\n   </cc:Work>\n  </rdf:RDF>\n </metadata>\n <defs>\n  <style type=\"text/css\">*{stroke-linejoin: round; stroke-linecap: butt}</style>\n </defs>\n <g id=\"figure_1\">\n  <g id=\"patch_1\">\n   <path d=\"M 0 672.540547 \nL 653.234844 672.540547 \nL 653.234844 0 \nL 0 0 \nz\n\" style=\"fill: #ffffff\"/>\n  </g>\n  <g id=\"axes_1\">\n   <g id=\"patch_2\">\n    <path d=\"M 117.561406 554.979141 \nL 563.961406 554.979141 \nL 563.961406 11.379141 \nL 117.561406 11.379141 \nz\n\" style=\"fill: #eaeaf2\"/>\n   </g>\n   <g id=\"matplotlib.axis_1\">\n    <g id=\"xtick_1\">\n     <g id=\"text_1\">\n      <!-- anger -->\n      <g style=\"fill: #262626\" transform=\"translate(145.396719 596.465078)rotate(-90)scale(0.11 -0.11)\">\n       <defs>\n        <path id=\"DejaVuSans-61\" d=\"M 2194 1759 \nQ 1497 1759 1228 1600 \nQ 959 1441 959 1056 \nQ 959 750 1161 570 \nQ 1363 391 1709 391 \nQ 2188 391 2477 730 \nQ 2766 1069 2766 1631 \nL 2766 1759 \nL 2194 1759 \nz\nM 3341 1997 \nL 3341 0 \nL 2766 0 \nL 2766 531 \nQ 2569 213 2275 61 \nQ 1981 -91 1556 -91 \nQ 1019 -91 701 211 \nQ 384 513 384 1019 \nQ 384 1609 779 1909 \nQ 1175 2209 1959 2209 \nL 2766 2209 \nL 2766 2266 \nQ 2766 2663 2505 2880 \nQ 2244 3097 1772 3097 \nQ 1472 3097 1187 3025 \nQ 903 2953 641 2809 \nL 641 3341 \nQ 956 3463 1253 3523 \nQ 1550 3584 1831 3584 \nQ 2591 3584 2966 3190 \nQ 3341 2797 3341 1997 \nz\n\" transform=\"scale(0.015625)\"/>\n        <path id=\"DejaVuSans-6e\" d=\"M 3513 2113 \nL 3513 0 \nL 2938 0 \nL 2938 2094 \nQ 2938 2591 2744 2837 \nQ 2550 3084 2163 3084 \nQ 1697 3084 1428 2787 \nQ 1159 2491 1159 1978 \nL 1159 0 \nL 581 0 \nL 581 3500 \nL 1159 3500 \nL 1159 2956 \nQ 1366 3272 1645 3428 \nQ 1925 3584 2291 3584 \nQ 2894 3584 3203 3211 \nQ 3513 2838 3513 2113 \nz\n\" transform=\"scale(0.015625)\"/>\n        <path id=\"DejaVuSans-67\" d=\"M 2906 1791 \nQ 2906 2416 2648 2759 \nQ 2391 3103 1925 3103 \nQ 1463 3103 1205 2759 \nQ 947 2416 947 1791 \nQ 947 1169 1205 825 \nQ 1463 481 1925 481 \nQ 2391 481 2648 825 \nQ 2906 1169 2906 1791 \nz\nM 3481 434 \nQ 3481 -459 3084 -895 \nQ 2688 -1331 1869 -1331 \nQ 1566 -1331 1297 -1286 \nQ 1028 -1241 775 -1147 \nL 775 -588 \nQ 1028 -725 1275 -790 \nQ 1522 -856 1778 -856 \nQ 2344 -856 2625 -561 \nQ 2906 -266 2906 331 \nL 2906 616 \nQ 2728 306 2450 153 \nQ 2172 0 1784 0 \nQ 1141 0 747 490 \nQ 353 981 353 1791 \nQ 353 2603 747 3093 \nQ 1141 3584 1784 3584 \nQ 2172 3584 2450 3431 \nQ 2728 3278 2906 2969 \nL 2906 3500 \nL 3481 3500 \nL 3481 434 \nz\n\" transform=\"scale(0.015625)\"/>\n        <path id=\"DejaVuSans-65\" d=\"M 3597 1894 \nL 3597 1613 \nL 953 1613 \nQ 991 1019 1311 708 \nQ 1631 397 2203 397 \nQ 2534 397 2845 478 \nQ 3156 559 3463 722 \nL 3463 178 \nQ 3153 47 2828 -22 \nQ 2503 -91 2169 -91 \nQ 1331 -91 842 396 \nQ 353 884 353 1716 \nQ 353 2575 817 3079 \nQ 1281 3584 2069 3584 \nQ 2775 3584 3186 3129 \nQ 3597 2675 3597 1894 \nz\nM 3022 2063 \nQ 3016 2534 2758 2815 \nQ 2500 3097 2075 3097 \nQ 1594 3097 1305 2825 \nQ 1016 2553 972 2059 \nL 3022 2063 \nz\n\" transform=\"scale(0.015625)\"/>\n        <path id=\"DejaVuSans-72\" d=\"M 2631 2963 \nQ 2534 3019 2420 3045 \nQ 2306 3072 2169 3072 \nQ 1681 3072 1420 2755 \nQ 1159 2438 1159 1844 \nL 1159 0 \nL 581 0 \nL 581 3500 \nL 1159 3500 \nL 1159 2956 \nQ 1341 3275 1631 3429 \nQ 1922 3584 2338 3584 \nQ 2397 3584 2469 3576 \nQ 2541 3569 2628 3553 \nL 2631 2963 \nz\n\" transform=\"scale(0.015625)\"/>\n       </defs>\n       <use xlink:href=\"#DejaVuSans-61\"/>\n       <use xlink:href=\"#DejaVuSans-6e\" x=\"61.279297\"/>\n       <use xlink:href=\"#DejaVuSans-67\" x=\"124.658203\"/>\n       <use xlink:href=\"#DejaVuSans-65\" x=\"188.134766\"/>\n       <use xlink:href=\"#DejaVuSans-72\" x=\"249.658203\"/>\n      </g>\n     </g>\n    </g>\n    <g id=\"xtick_2\">\n     <g id=\"text_2\">\n      <!-- anticipation -->\n      <g style=\"fill: #262626\" transform=\"translate(194.996719 629.458203)rotate(-90)scale(0.11 -0.11)\">\n       <defs>\n        <path id=\"DejaVuSans-74\" d=\"M 1172 4494 \nL 1172 3500 \nL 2356 3500 \nL 2356 3053 \nL 1172 3053 \nL 1172 1153 \nQ 1172 725 1289 603 \nQ 1406 481 1766 481 \nL 2356 481 \nL 2356 0 \nL 1766 0 \nQ 1100 0 847 248 \nQ 594 497 594 1153 \nL 594 3053 \nL 172 3053 \nL 172 3500 \nL 594 3500 \nL 594 4494 \nL 1172 4494 \nz\n\" transform=\"scale(0.015625)\"/>\n        <path id=\"DejaVuSans-69\" d=\"M 603 3500 \nL 1178 3500 \nL 1178 0 \nL 603 0 \nL 603 3500 \nz\nM 603 4863 \nL 1178 4863 \nL 1178 4134 \nL 603 4134 \nL 603 4863 \nz\n\" transform=\"scale(0.015625)\"/>\n        <path id=\"DejaVuSans-63\" d=\"M 3122 3366 \nL 3122 2828 \nQ 2878 2963 2633 3030 \nQ 2388 3097 2138 3097 \nQ 1578 3097 1268 2742 \nQ 959 2388 959 1747 \nQ 959 1106 1268 751 \nQ 1578 397 2138 397 \nQ 2388 397 2633 464 \nQ 2878 531 3122 666 \nL 3122 134 \nQ 2881 22 2623 -34 \nQ 2366 -91 2075 -91 \nQ 1284 -91 818 406 \nQ 353 903 353 1747 \nQ 353 2603 823 3093 \nQ 1294 3584 2113 3584 \nQ 2378 3584 2631 3529 \nQ 2884 3475 3122 3366 \nz\n\" transform=\"scale(0.015625)\"/>\n        <path id=\"DejaVuSans-70\" d=\"M 1159 525 \nL 1159 -1331 \nL 581 -1331 \nL 581 3500 \nL 1159 3500 \nL 1159 2969 \nQ 1341 3281 1617 3432 \nQ 1894 3584 2278 3584 \nQ 2916 3584 3314 3078 \nQ 3713 2572 3713 1747 \nQ 3713 922 3314 415 \nQ 2916 -91 2278 -91 \nQ 1894 -91 1617 61 \nQ 1341 213 1159 525 \nz\nM 3116 1747 \nQ 3116 2381 2855 2742 \nQ 2594 3103 2138 3103 \nQ 1681 3103 1420 2742 \nQ 1159 2381 1159 1747 \nQ 1159 1113 1420 752 \nQ 1681 391 2138 391 \nQ 2594 391 2855 752 \nQ 3116 1113 3116 1747 \nz\n\" transform=\"scale(0.015625)\"/>\n        <path id=\"DejaVuSans-6f\" d=\"M 1959 3097 \nQ 1497 3097 1228 2736 \nQ 959 2375 959 1747 \nQ 959 1119 1226 758 \nQ 1494 397 1959 397 \nQ 2419 397 2687 759 \nQ 2956 1122 2956 1747 \nQ 2956 2369 2687 2733 \nQ 2419 3097 1959 3097 \nz\nM 1959 3584 \nQ 2709 3584 3137 3096 \nQ 3566 2609 3566 1747 \nQ 3566 888 3137 398 \nQ 2709 -91 1959 -91 \nQ 1206 -91 779 398 \nQ 353 888 353 1747 \nQ 353 2609 779 3096 \nQ 1206 3584 1959 3584 \nz\n\" transform=\"scale(0.015625)\"/>\n       </defs>\n       <use xlink:href=\"#DejaVuSans-61\"/>\n       <use xlink:href=\"#DejaVuSans-6e\" x=\"61.279297\"/>\n       <use xlink:href=\"#DejaVuSans-74\" x=\"124.658203\"/>\n       <use xlink:href=\"#DejaVuSans-69\" x=\"163.867188\"/>\n       <use xlink:href=\"#DejaVuSans-63\" x=\"191.650391\"/>\n       <use xlink:href=\"#DejaVuSans-69\" x=\"246.630859\"/>\n       <use xlink:href=\"#DejaVuSans-70\" x=\"274.414062\"/>\n       <use xlink:href=\"#DejaVuSans-61\" x=\"337.890625\"/>\n       <use xlink:href=\"#DejaVuSans-74\" x=\"399.169922\"/>\n       <use xlink:href=\"#DejaVuSans-69\" x=\"438.378906\"/>\n       <use xlink:href=\"#DejaVuSans-6f\" x=\"466.162109\"/>\n       <use xlink:href=\"#DejaVuSans-6e\" x=\"527.34375\"/>\n      </g>\n     </g>\n    </g>\n    <g id=\"xtick_3\">\n     <g id=\"text_3\">\n      <!-- disgust -->\n      <g style=\"fill: #262626\" transform=\"translate(244.596719 604.245859)rotate(-90)scale(0.11 -0.11)\">\n       <defs>\n        <path id=\"DejaVuSans-64\" d=\"M 2906 2969 \nL 2906 4863 \nL 3481 4863 \nL 3481 0 \nL 2906 0 \nL 2906 525 \nQ 2725 213 2448 61 \nQ 2172 -91 1784 -91 \nQ 1150 -91 751 415 \nQ 353 922 353 1747 \nQ 353 2572 751 3078 \nQ 1150 3584 1784 3584 \nQ 2172 3584 2448 3432 \nQ 2725 3281 2906 2969 \nz\nM 947 1747 \nQ 947 1113 1208 752 \nQ 1469 391 1925 391 \nQ 2381 391 2643 752 \nQ 2906 1113 2906 1747 \nQ 2906 2381 2643 2742 \nQ 2381 3103 1925 3103 \nQ 1469 3103 1208 2742 \nQ 947 2381 947 1747 \nz\n\" transform=\"scale(0.015625)\"/>\n        <path id=\"DejaVuSans-73\" d=\"M 2834 3397 \nL 2834 2853 \nQ 2591 2978 2328 3040 \nQ 2066 3103 1784 3103 \nQ 1356 3103 1142 2972 \nQ 928 2841 928 2578 \nQ 928 2378 1081 2264 \nQ 1234 2150 1697 2047 \nL 1894 2003 \nQ 2506 1872 2764 1633 \nQ 3022 1394 3022 966 \nQ 3022 478 2636 193 \nQ 2250 -91 1575 -91 \nQ 1294 -91 989 -36 \nQ 684 19 347 128 \nL 347 722 \nQ 666 556 975 473 \nQ 1284 391 1588 391 \nQ 1994 391 2212 530 \nQ 2431 669 2431 922 \nQ 2431 1156 2273 1281 \nQ 2116 1406 1581 1522 \nL 1381 1569 \nQ 847 1681 609 1914 \nQ 372 2147 372 2553 \nQ 372 3047 722 3315 \nQ 1072 3584 1716 3584 \nQ 2034 3584 2315 3537 \nQ 2597 3491 2834 3397 \nz\n\" transform=\"scale(0.015625)\"/>\n        <path id=\"DejaVuSans-75\" d=\"M 544 1381 \nL 544 3500 \nL 1119 3500 \nL 1119 1403 \nQ 1119 906 1312 657 \nQ 1506 409 1894 409 \nQ 2359 409 2629 706 \nQ 2900 1003 2900 1516 \nL 2900 3500 \nL 3475 3500 \nL 3475 0 \nL 2900 0 \nL 2900 538 \nQ 2691 219 2414 64 \nQ 2138 -91 1772 -91 \nQ 1169 -91 856 284 \nQ 544 659 544 1381 \nz\nM 1991 3584 \nL 1991 3584 \nz\n\" transform=\"scale(0.015625)\"/>\n       </defs>\n       <use xlink:href=\"#DejaVuSans-64\"/>\n       <use xlink:href=\"#DejaVuSans-69\" x=\"63.476562\"/>\n       <use xlink:href=\"#DejaVuSans-73\" x=\"91.259766\"/>\n       <use xlink:href=\"#DejaVuSans-67\" x=\"143.359375\"/>\n       <use xlink:href=\"#DejaVuSans-75\" x=\"206.835938\"/>\n       <use xlink:href=\"#DejaVuSans-73\" x=\"270.214844\"/>\n       <use xlink:href=\"#DejaVuSans-74\" x=\"322.314453\"/>\n      </g>\n     </g>\n    </g>\n    <g id=\"xtick_4\">\n     <g id=\"text_4\">\n      <!-- fear -->\n      <g style=\"fill: #262626\" transform=\"translate(294.196719 586.382891)rotate(-90)scale(0.11 -0.11)\">\n       <defs>\n        <path id=\"DejaVuSans-66\" d=\"M 2375 4863 \nL 2375 4384 \nL 1825 4384 \nQ 1516 4384 1395 4259 \nQ 1275 4134 1275 3809 \nL 1275 3500 \nL 2222 3500 \nL 2222 3053 \nL 1275 3053 \nL 1275 0 \nL 697 0 \nL 697 3053 \nL 147 3053 \nL 147 3500 \nL 697 3500 \nL 697 3744 \nQ 697 4328 969 4595 \nQ 1241 4863 1831 4863 \nL 2375 4863 \nz\n\" transform=\"scale(0.015625)\"/>\n       </defs>\n       <use xlink:href=\"#DejaVuSans-66\"/>\n       <use xlink:href=\"#DejaVuSans-65\" x=\"35.205078\"/>\n       <use xlink:href=\"#DejaVuSans-61\" x=\"96.728516\"/>\n       <use xlink:href=\"#DejaVuSans-72\" x=\"158.007812\"/>\n      </g>\n     </g>\n    </g>\n    <g id=\"xtick_5\">\n     <g id=\"text_5\">\n      <!-- joy -->\n      <g style=\"fill: #262626\" transform=\"translate(343.796719 580.776328)rotate(-90)scale(0.11 -0.11)\">\n       <defs>\n        <path id=\"DejaVuSans-6a\" d=\"M 603 3500 \nL 1178 3500 \nL 1178 -63 \nQ 1178 -731 923 -1031 \nQ 669 -1331 103 -1331 \nL -116 -1331 \nL -116 -844 \nL 38 -844 \nQ 366 -844 484 -692 \nQ 603 -541 603 -63 \nL 603 3500 \nz\nM 603 4863 \nL 1178 4863 \nL 1178 4134 \nL 603 4134 \nL 603 4863 \nz\n\" transform=\"scale(0.015625)\"/>\n        <path id=\"DejaVuSans-79\" d=\"M 2059 -325 \nQ 1816 -950 1584 -1140 \nQ 1353 -1331 966 -1331 \nL 506 -1331 \nL 506 -850 \nL 844 -850 \nQ 1081 -850 1212 -737 \nQ 1344 -625 1503 -206 \nL 1606 56 \nL 191 3500 \nL 800 3500 \nL 1894 763 \nL 2988 3500 \nL 3597 3500 \nL 2059 -325 \nz\n\" transform=\"scale(0.015625)\"/>\n       </defs>\n       <use xlink:href=\"#DejaVuSans-6a\"/>\n       <use xlink:href=\"#DejaVuSans-6f\" x=\"27.783203\"/>\n       <use xlink:href=\"#DejaVuSans-79\" x=\"88.964844\"/>\n      </g>\n     </g>\n    </g>\n    <g id=\"xtick_6\">\n     <g id=\"text_6\">\n      <!-- sadness -->\n      <g style=\"fill: #262626\" transform=\"translate(393.396719 609.133984)rotate(-90)scale(0.11 -0.11)\">\n       <use xlink:href=\"#DejaVuSans-73\"/>\n       <use xlink:href=\"#DejaVuSans-61\" x=\"52.099609\"/>\n       <use xlink:href=\"#DejaVuSans-64\" x=\"113.378906\"/>\n       <use xlink:href=\"#DejaVuSans-6e\" x=\"176.855469\"/>\n       <use xlink:href=\"#DejaVuSans-65\" x=\"240.234375\"/>\n       <use xlink:href=\"#DejaVuSans-73\" x=\"301.757812\"/>\n       <use xlink:href=\"#DejaVuSans-73\" x=\"353.857422\"/>\n      </g>\n     </g>\n    </g>\n    <g id=\"xtick_7\">\n     <g id=\"text_7\">\n      <!-- surprise -->\n      <g style=\"fill: #262626\" transform=\"translate(442.996719 608.762734)rotate(-90)scale(0.11 -0.11)\">\n       <use xlink:href=\"#DejaVuSans-73\"/>\n       <use xlink:href=\"#DejaVuSans-75\" x=\"52.099609\"/>\n       <use xlink:href=\"#DejaVuSans-72\" x=\"115.478516\"/>\n       <use xlink:href=\"#DejaVuSans-70\" x=\"156.591797\"/>\n       <use xlink:href=\"#DejaVuSans-72\" x=\"220.068359\"/>\n       <use xlink:href=\"#DejaVuSans-69\" x=\"261.181641\"/>\n       <use xlink:href=\"#DejaVuSans-73\" x=\"288.964844\"/>\n       <use xlink:href=\"#DejaVuSans-65\" x=\"341.064453\"/>\n      </g>\n     </g>\n    </g>\n    <g id=\"xtick_8\">\n     <g id=\"text_8\">\n      <!-- surprise,confusion -->\n      <g style=\"fill: #262626\" transform=\"translate(492.596719 665.340547)rotate(-90)scale(0.11 -0.11)\">\n       <defs>\n        <path id=\"DejaVuSans-2c\" d=\"M 750 794 \nL 1409 794 \nL 1409 256 \nL 897 -744 \nL 494 -744 \nL 750 256 \nL 750 794 \nz\n\" transform=\"scale(0.015625)\"/>\n       </defs>\n       <use xlink:href=\"#DejaVuSans-73\"/>\n       <use xlink:href=\"#DejaVuSans-75\" x=\"52.099609\"/>\n       <use xlink:href=\"#DejaVuSans-72\" x=\"115.478516\"/>\n       <use xlink:href=\"#DejaVuSans-70\" x=\"156.591797\"/>\n       <use xlink:href=\"#DejaVuSans-72\" x=\"220.068359\"/>\n       <use xlink:href=\"#DejaVuSans-69\" x=\"261.181641\"/>\n       <use xlink:href=\"#DejaVuSans-73\" x=\"288.964844\"/>\n       <use xlink:href=\"#DejaVuSans-65\" x=\"341.064453\"/>\n       <use xlink:href=\"#DejaVuSans-2c\" x=\"402.587891\"/>\n       <use xlink:href=\"#DejaVuSans-63\" x=\"434.375\"/>\n       <use xlink:href=\"#DejaVuSans-6f\" x=\"489.355469\"/>\n       <use xlink:href=\"#DejaVuSans-6e\" x=\"550.537109\"/>\n       <use xlink:href=\"#DejaVuSans-66\" x=\"613.916016\"/>\n       <use xlink:href=\"#DejaVuSans-75\" x=\"649.121094\"/>\n       <use xlink:href=\"#DejaVuSans-73\" x=\"712.5\"/>\n       <use xlink:href=\"#DejaVuSans-69\" x=\"764.599609\"/>\n       <use xlink:href=\"#DejaVuSans-6f\" x=\"792.382812\"/>\n       <use xlink:href=\"#DejaVuSans-6e\" x=\"853.564453\"/>\n      </g>\n     </g>\n    </g>\n    <g id=\"xtick_9\">\n     <g id=\"text_9\">\n      <!-- trust -->\n      <g style=\"fill: #262626\" transform=\"translate(542.196719 590.327422)rotate(-90)scale(0.11 -0.11)\">\n       <use xlink:href=\"#DejaVuSans-74\"/>\n       <use xlink:href=\"#DejaVuSans-72\" x=\"39.208984\"/>\n       <use xlink:href=\"#DejaVuSans-75\" x=\"80.322266\"/>\n       <use xlink:href=\"#DejaVuSans-73\" x=\"143.701172\"/>\n       <use xlink:href=\"#DejaVuSans-74\" x=\"195.800781\"/>\n      </g>\n     </g>\n    </g>\n   </g>\n   <g id=\"matplotlib.axis_2\">\n    <g id=\"ytick_1\">\n     <g id=\"text_10\">\n      <!-- anger -->\n      <g style=\"fill: #262626\" transform=\"translate(76.075469 44.614453)scale(0.11 -0.11)\">\n       <use xlink:href=\"#DejaVuSans-61\"/>\n       <use xlink:href=\"#DejaVuSans-6e\" x=\"61.279297\"/>\n       <use xlink:href=\"#DejaVuSans-67\" x=\"124.658203\"/>\n       <use xlink:href=\"#DejaVuSans-65\" x=\"188.134766\"/>\n       <use xlink:href=\"#DejaVuSans-72\" x=\"249.658203\"/>\n      </g>\n     </g>\n    </g>\n    <g id=\"ytick_2\">\n     <g id=\"text_11\">\n      <!-- anticipation -->\n      <g style=\"fill: #262626\" transform=\"translate(43.082344 105.014453)scale(0.11 -0.11)\">\n       <use xlink:href=\"#DejaVuSans-61\"/>\n       <use xlink:href=\"#DejaVuSans-6e\" x=\"61.279297\"/>\n       <use xlink:href=\"#DejaVuSans-74\" x=\"124.658203\"/>\n       <use xlink:href=\"#DejaVuSans-69\" x=\"163.867188\"/>\n       <use xlink:href=\"#DejaVuSans-63\" x=\"191.650391\"/>\n       <use xlink:href=\"#DejaVuSans-69\" x=\"246.630859\"/>\n       <use xlink:href=\"#DejaVuSans-70\" x=\"274.414062\"/>\n       <use xlink:href=\"#DejaVuSans-61\" x=\"337.890625\"/>\n       <use xlink:href=\"#DejaVuSans-74\" x=\"399.169922\"/>\n       <use xlink:href=\"#DejaVuSans-69\" x=\"438.378906\"/>\n       <use xlink:href=\"#DejaVuSans-6f\" x=\"466.162109\"/>\n       <use xlink:href=\"#DejaVuSans-6e\" x=\"527.34375\"/>\n      </g>\n     </g>\n    </g>\n    <g id=\"ytick_3\">\n     <g id=\"text_12\">\n      <!-- disgust -->\n      <g style=\"fill: #262626\" transform=\"translate(68.294688 165.414453)scale(0.11 -0.11)\">\n       <use xlink:href=\"#DejaVuSans-64\"/>\n       <use xlink:href=\"#DejaVuSans-69\" x=\"63.476562\"/>\n       <use xlink:href=\"#DejaVuSans-73\" x=\"91.259766\"/>\n       <use xlink:href=\"#DejaVuSans-67\" x=\"143.359375\"/>\n       <use xlink:href=\"#DejaVuSans-75\" x=\"206.835938\"/>\n       <use xlink:href=\"#DejaVuSans-73\" x=\"270.214844\"/>\n       <use xlink:href=\"#DejaVuSans-74\" x=\"322.314453\"/>\n      </g>\n     </g>\n    </g>\n    <g id=\"ytick_4\">\n     <g id=\"text_13\">\n      <!-- fear -->\n      <g style=\"fill: #262626\" transform=\"translate(86.157656 225.814453)scale(0.11 -0.11)\">\n       <use xlink:href=\"#DejaVuSans-66\"/>\n       <use xlink:href=\"#DejaVuSans-65\" x=\"35.205078\"/>\n       <use xlink:href=\"#DejaVuSans-61\" x=\"96.728516\"/>\n       <use xlink:href=\"#DejaVuSans-72\" x=\"158.007812\"/>\n      </g>\n     </g>\n    </g>\n    <g id=\"ytick_5\">\n     <g id=\"text_14\">\n      <!-- joy -->\n      <g style=\"fill: #262626\" transform=\"translate(91.764219 286.214453)scale(0.11 -0.11)\">\n       <use xlink:href=\"#DejaVuSans-6a\"/>\n       <use xlink:href=\"#DejaVuSans-6f\" x=\"27.783203\"/>\n       <use xlink:href=\"#DejaVuSans-79\" x=\"88.964844\"/>\n      </g>\n     </g>\n    </g>\n    <g id=\"ytick_6\">\n     <g id=\"text_15\">\n      <!-- sadness -->\n      <g style=\"fill: #262626\" transform=\"translate(63.406563 346.614453)scale(0.11 -0.11)\">\n       <use xlink:href=\"#DejaVuSans-73\"/>\n       <use xlink:href=\"#DejaVuSans-61\" x=\"52.099609\"/>\n       <use xlink:href=\"#DejaVuSans-64\" x=\"113.378906\"/>\n       <use xlink:href=\"#DejaVuSans-6e\" x=\"176.855469\"/>\n       <use xlink:href=\"#DejaVuSans-65\" x=\"240.234375\"/>\n       <use xlink:href=\"#DejaVuSans-73\" x=\"301.757812\"/>\n       <use xlink:href=\"#DejaVuSans-73\" x=\"353.857422\"/>\n      </g>\n     </g>\n    </g>\n    <g id=\"ytick_7\">\n     <g id=\"text_16\">\n      <!-- surprise -->\n      <g style=\"fill: #262626\" transform=\"translate(63.777813 407.014453)scale(0.11 -0.11)\">\n       <use xlink:href=\"#DejaVuSans-73\"/>\n       <use xlink:href=\"#DejaVuSans-75\" x=\"52.099609\"/>\n       <use xlink:href=\"#DejaVuSans-72\" x=\"115.478516\"/>\n       <use xlink:href=\"#DejaVuSans-70\" x=\"156.591797\"/>\n       <use xlink:href=\"#DejaVuSans-72\" x=\"220.068359\"/>\n       <use xlink:href=\"#DejaVuSans-69\" x=\"261.181641\"/>\n       <use xlink:href=\"#DejaVuSans-73\" x=\"288.964844\"/>\n       <use xlink:href=\"#DejaVuSans-65\" x=\"341.064453\"/>\n      </g>\n     </g>\n    </g>\n    <g id=\"ytick_8\">\n     <g id=\"text_17\">\n      <!-- surprise,confusion -->\n      <g style=\"fill: #262626\" transform=\"translate(7.2 467.414453)scale(0.11 -0.11)\">\n       <use xlink:href=\"#DejaVuSans-73\"/>\n       <use xlink:href=\"#DejaVuSans-75\" x=\"52.099609\"/>\n       <use xlink:href=\"#DejaVuSans-72\" x=\"115.478516\"/>\n       <use xlink:href=\"#DejaVuSans-70\" x=\"156.591797\"/>\n       <use xlink:href=\"#DejaVuSans-72\" x=\"220.068359\"/>\n       <use xlink:href=\"#DejaVuSans-69\" x=\"261.181641\"/>\n       <use xlink:href=\"#DejaVuSans-73\" x=\"288.964844\"/>\n       <use xlink:href=\"#DejaVuSans-65\" x=\"341.064453\"/>\n       <use xlink:href=\"#DejaVuSans-2c\" x=\"402.587891\"/>\n       <use xlink:href=\"#DejaVuSans-63\" x=\"434.375\"/>\n       <use xlink:href=\"#DejaVuSans-6f\" x=\"489.355469\"/>\n       <use xlink:href=\"#DejaVuSans-6e\" x=\"550.537109\"/>\n       <use xlink:href=\"#DejaVuSans-66\" x=\"613.916016\"/>\n       <use xlink:href=\"#DejaVuSans-75\" x=\"649.121094\"/>\n       <use xlink:href=\"#DejaVuSans-73\" x=\"712.5\"/>\n       <use xlink:href=\"#DejaVuSans-69\" x=\"764.599609\"/>\n       <use xlink:href=\"#DejaVuSans-6f\" x=\"792.382812\"/>\n       <use xlink:href=\"#DejaVuSans-6e\" x=\"853.564453\"/>\n      </g>\n     </g>\n    </g>\n    <g id=\"ytick_9\">\n     <g id=\"text_18\">\n      <!-- trust -->\n      <g style=\"fill: #262626\" transform=\"translate(82.213125 527.814453)scale(0.11 -0.11)\">\n       <use xlink:href=\"#DejaVuSans-74\"/>\n       <use xlink:href=\"#DejaVuSans-72\" x=\"39.208984\"/>\n       <use xlink:href=\"#DejaVuSans-75\" x=\"80.322266\"/>\n       <use xlink:href=\"#DejaVuSans-73\" x=\"143.701172\"/>\n       <use xlink:href=\"#DejaVuSans-74\" x=\"195.800781\"/>\n      </g>\n     </g>\n    </g>\n   </g>\n   <g id=\"QuadMesh_1\">\n    <path d=\"M 117.561406 11.379141 \nL 167.161406 11.379141 \nL 167.161406 71.779141 \nL 117.561406 71.779141 \nL 117.561406 11.379141 \n\" clip-path=\"url(#p7522bca409)\" style=\"fill: #20122e\"/>\n    <path d=\"M 167.161406 11.379141 \nL 216.761406 11.379141 \nL 216.761406 71.779141 \nL 167.161406 71.779141 \nL 167.161406 11.379141 \n\" clip-path=\"url(#p7522bca409)\" style=\"fill: #03051a\"/>\n    <path d=\"M 216.761406 11.379141 \nL 266.361406 11.379141 \nL 266.361406 71.779141 \nL 216.761406 71.779141 \nL 216.761406 11.379141 \n\" clip-path=\"url(#p7522bca409)\" style=\"fill: #401b44\"/>\n    <path d=\"M 266.361406 11.379141 \nL 315.961406 11.379141 \nL 315.961406 71.779141 \nL 266.361406 71.779141 \nL 266.361406 11.379141 \n\" clip-path=\"url(#p7522bca409)\" style=\"fill: #03051a\"/>\n    <path d=\"M 315.961406 11.379141 \nL 365.561406 11.379141 \nL 365.561406 71.779141 \nL 315.961406 71.779141 \nL 315.961406 11.379141 \n\" clip-path=\"url(#p7522bca409)\" style=\"fill: #03051a\"/>\n    <path d=\"M 365.561406 11.379141 \nL 415.161406 11.379141 \nL 415.161406 71.779141 \nL 365.561406 71.779141 \nL 365.561406 11.379141 \n\" clip-path=\"url(#p7522bca409)\" style=\"fill: #03051a\"/>\n    <path d=\"M 415.161406 11.379141 \nL 464.761406 11.379141 \nL 464.761406 71.779141 \nL 415.161406 71.779141 \nL 415.161406 11.379141 \n\" clip-path=\"url(#p7522bca409)\" style=\"fill: #3f1b43\"/>\n    <path d=\"M 464.761406 11.379141 \nL 514.361406 11.379141 \nL 514.361406 71.779141 \nL 464.761406 71.779141 \nL 464.761406 11.379141 \n\" clip-path=\"url(#p7522bca409)\" style=\"fill: #611f53\"/>\n    <path d=\"M 514.361406 11.379141 \nL 563.961406 11.379141 \nL 563.961406 71.779141 \nL 514.361406 71.779141 \nL 514.361406 11.379141 \n\" clip-path=\"url(#p7522bca409)\" style=\"fill: #211330\"/>\n    <path d=\"M 117.561406 71.779141 \nL 167.161406 71.779141 \nL 167.161406 132.179141 \nL 117.561406 132.179141 \nL 117.561406 71.779141 \n\" clip-path=\"url(#p7522bca409)\" style=\"fill: #0b0920\"/>\n    <path d=\"M 167.161406 71.779141 \nL 216.761406 71.779141 \nL 216.761406 132.179141 \nL 167.161406 132.179141 \nL 167.161406 71.779141 \n\" clip-path=\"url(#p7522bca409)\" style=\"fill: #761f58\"/>\n    <path d=\"M 216.761406 71.779141 \nL 266.361406 71.779141 \nL 266.361406 132.179141 \nL 216.761406 132.179141 \nL 216.761406 71.779141 \n\" clip-path=\"url(#p7522bca409)\" style=\"fill: #180f29\"/>\n    <path d=\"M 266.361406 71.779141 \nL 315.961406 71.779141 \nL 315.961406 132.179141 \nL 266.361406 132.179141 \nL 266.361406 71.779141 \n\" clip-path=\"url(#p7522bca409)\" style=\"fill: #03051a\"/>\n    <path d=\"M 315.961406 71.779141 \nL 365.561406 71.779141 \nL 365.561406 132.179141 \nL 315.961406 132.179141 \nL 315.961406 71.779141 \n\" clip-path=\"url(#p7522bca409)\" style=\"fill: #1d112c\"/>\n    <path d=\"M 365.561406 71.779141 \nL 415.161406 71.779141 \nL 415.161406 132.179141 \nL 365.561406 132.179141 \nL 365.561406 71.779141 \n\" clip-path=\"url(#p7522bca409)\" style=\"fill: #cb1b4f\"/>\n    <path d=\"M 415.161406 71.779141 \nL 464.761406 71.779141 \nL 464.761406 132.179141 \nL 415.161406 132.179141 \nL 415.161406 71.779141 \n\" clip-path=\"url(#p7522bca409)\" style=\"fill: #03051a\"/>\n    <path d=\"M 464.761406 71.779141 \nL 514.361406 71.779141 \nL 514.361406 132.179141 \nL 464.761406 132.179141 \nL 464.761406 71.779141 \n\" clip-path=\"url(#p7522bca409)\" style=\"fill: #611f53\"/>\n    <path d=\"M 514.361406 71.779141 \nL 563.961406 71.779141 \nL 563.961406 132.179141 \nL 514.361406 132.179141 \nL 514.361406 71.779141 \n\" clip-path=\"url(#p7522bca409)\" style=\"fill: #2b1637\"/>\n    <path d=\"M 117.561406 132.179141 \nL 167.161406 132.179141 \nL 167.161406 192.579141 \nL 117.561406 192.579141 \nL 117.561406 132.179141 \n\" clip-path=\"url(#p7522bca409)\" style=\"fill: #ee523f\"/>\n    <path d=\"M 167.161406 132.179141 \nL 216.761406 132.179141 \nL 216.761406 192.579141 \nL 167.161406 192.579141 \nL 167.161406 132.179141 \n\" clip-path=\"url(#p7522bca409)\" style=\"fill: #761f58\"/>\n    <path d=\"M 216.761406 132.179141 \nL 266.361406 132.179141 \nL 266.361406 192.579141 \nL 216.761406 192.579141 \nL 216.761406 132.179141 \n\" clip-path=\"url(#p7522bca409)\" style=\"fill: #c11754\"/>\n    <path d=\"M 266.361406 132.179141 \nL 315.961406 132.179141 \nL 315.961406 192.579141 \nL 266.361406 192.579141 \nL 266.361406 132.179141 \n\" clip-path=\"url(#p7522bca409)\" style=\"fill: #03051a\"/>\n    <path d=\"M 315.961406 132.179141 \nL 365.561406 132.179141 \nL 365.561406 192.579141 \nL 315.961406 192.579141 \nL 315.961406 132.179141 \n\" clip-path=\"url(#p7522bca409)\" style=\"fill: #2b1637\"/>\n    <path d=\"M 365.561406 132.179141 \nL 415.161406 132.179141 \nL 415.161406 192.579141 \nL 365.561406 192.579141 \nL 365.561406 132.179141 \n\" clip-path=\"url(#p7522bca409)\" style=\"fill: #cb1b4f\"/>\n    <path d=\"M 415.161406 132.179141 \nL 464.761406 132.179141 \nL 464.761406 192.579141 \nL 415.161406 192.579141 \nL 415.161406 132.179141 \n\" clip-path=\"url(#p7522bca409)\" style=\"fill: #841e5a\"/>\n    <path d=\"M 464.761406 132.179141 \nL 514.361406 132.179141 \nL 514.361406 192.579141 \nL 464.761406 192.579141 \nL 464.761406 132.179141 \n\" clip-path=\"url(#p7522bca409)\" style=\"fill: #611f53\"/>\n    <path d=\"M 514.361406 132.179141 \nL 563.961406 132.179141 \nL 563.961406 192.579141 \nL 514.361406 192.579141 \nL 514.361406 132.179141 \n\" clip-path=\"url(#p7522bca409)\" style=\"fill: #2e1739\"/>\n    <path d=\"M 117.561406 192.579141 \nL 167.161406 192.579141 \nL 167.161406 252.979141 \nL 117.561406 252.979141 \nL 117.561406 192.579141 \n\" clip-path=\"url(#p7522bca409)\" style=\"fill: #20122e\"/>\n    <path d=\"M 167.161406 192.579141 \nL 216.761406 192.579141 \nL 216.761406 252.979141 \nL 167.161406 252.979141 \nL 167.161406 192.579141 \n\" clip-path=\"url(#p7522bca409)\" style=\"fill: #03051a\"/>\n    <path d=\"M 216.761406 192.579141 \nL 266.361406 192.579141 \nL 266.361406 252.979141 \nL 216.761406 252.979141 \nL 216.761406 192.579141 \n\" clip-path=\"url(#p7522bca409)\" style=\"fill: #07071d\"/>\n    <path d=\"M 266.361406 192.579141 \nL 315.961406 192.579141 \nL 315.961406 252.979141 \nL 266.361406 252.979141 \nL 266.361406 192.579141 \n\" clip-path=\"url(#p7522bca409)\" style=\"fill: #03051a\"/>\n    <path d=\"M 315.961406 192.579141 \nL 365.561406 192.579141 \nL 365.561406 252.979141 \nL 315.961406 252.979141 \nL 315.961406 192.579141 \n\" clip-path=\"url(#p7522bca409)\" style=\"fill: #0e0b22\"/>\n    <path d=\"M 365.561406 192.579141 \nL 415.161406 192.579141 \nL 415.161406 252.979141 \nL 365.561406 252.979141 \nL 365.561406 192.579141 \n\" clip-path=\"url(#p7522bca409)\" style=\"fill: #03051a\"/>\n    <path d=\"M 415.161406 192.579141 \nL 464.761406 192.579141 \nL 464.761406 252.979141 \nL 415.161406 252.979141 \nL 415.161406 192.579141 \n\" clip-path=\"url(#p7522bca409)\" style=\"fill: #03051a\"/>\n    <path d=\"M 464.761406 192.579141 \nL 514.361406 192.579141 \nL 514.361406 252.979141 \nL 464.761406 252.979141 \nL 464.761406 192.579141 \n\" clip-path=\"url(#p7522bca409)\" style=\"fill: #03051a\"/>\n    <path d=\"M 514.361406 192.579141 \nL 563.961406 192.579141 \nL 563.961406 252.979141 \nL 514.361406 252.979141 \nL 514.361406 192.579141 \n\" clip-path=\"url(#p7522bca409)\" style=\"fill: #08081e\"/>\n    <path d=\"M 117.561406 252.979141 \nL 167.161406 252.979141 \nL 167.161406 313.379141 \nL 117.561406 313.379141 \nL 117.561406 252.979141 \n\" clip-path=\"url(#p7522bca409)\" style=\"fill: #0b0920\"/>\n    <path d=\"M 167.161406 252.979141 \nL 216.761406 252.979141 \nL 216.761406 313.379141 \nL 167.161406 313.379141 \nL 167.161406 252.979141 \n\" clip-path=\"url(#p7522bca409)\" style=\"fill: #211330\"/>\n    <path d=\"M 216.761406 252.979141 \nL 266.361406 252.979141 \nL 266.361406 313.379141 \nL 216.761406 313.379141 \nL 216.761406 252.979141 \n\" clip-path=\"url(#p7522bca409)\" style=\"fill: #1b112b\"/>\n    <path d=\"M 266.361406 252.979141 \nL 315.961406 252.979141 \nL 315.961406 313.379141 \nL 266.361406 313.379141 \nL 266.361406 252.979141 \n\" clip-path=\"url(#p7522bca409)\" style=\"fill: #03051a\"/>\n    <path d=\"M 315.961406 252.979141 \nL 365.561406 252.979141 \nL 365.561406 313.379141 \nL 315.961406 313.379141 \nL 315.961406 252.979141 \n\" clip-path=\"url(#p7522bca409)\" style=\"fill: #781f59\"/>\n    <path d=\"M 365.561406 252.979141 \nL 415.161406 252.979141 \nL 415.161406 313.379141 \nL 365.561406 313.379141 \nL 365.561406 252.979141 \n\" clip-path=\"url(#p7522bca409)\" style=\"fill: #03051a\"/>\n    <path d=\"M 415.161406 252.979141 \nL 464.761406 252.979141 \nL 464.761406 313.379141 \nL 415.161406 313.379141 \nL 415.161406 252.979141 \n\" clip-path=\"url(#p7522bca409)\" style=\"fill: #03051a\"/>\n    <path d=\"M 464.761406 252.979141 \nL 514.361406 252.979141 \nL 514.361406 313.379141 \nL 464.761406 313.379141 \nL 464.761406 252.979141 \n\" clip-path=\"url(#p7522bca409)\" style=\"fill: #03051a\"/>\n    <path d=\"M 514.361406 252.979141 \nL 563.961406 252.979141 \nL 563.961406 313.379141 \nL 514.361406 313.379141 \nL 514.361406 252.979141 \n\" clip-path=\"url(#p7522bca409)\" style=\"fill: #31183b\"/>\n    <path d=\"M 117.561406 313.379141 \nL 167.161406 313.379141 \nL 167.161406 373.779141 \nL 117.561406 373.779141 \nL 117.561406 313.379141 \n\" clip-path=\"url(#p7522bca409)\" style=\"fill: #03051a\"/>\n    <path d=\"M 167.161406 313.379141 \nL 216.761406 313.379141 \nL 216.761406 373.779141 \nL 167.161406 373.779141 \nL 167.161406 313.379141 \n\" clip-path=\"url(#p7522bca409)\" style=\"fill: #03051a\"/>\n    <path d=\"M 216.761406 313.379141 \nL 266.361406 313.379141 \nL 266.361406 373.779141 \nL 216.761406 373.779141 \nL 216.761406 313.379141 \n\" clip-path=\"url(#p7522bca409)\" style=\"fill: #05061b\"/>\n    <path d=\"M 266.361406 313.379141 \nL 315.961406 313.379141 \nL 315.961406 373.779141 \nL 266.361406 373.779141 \nL 266.361406 313.379141 \n\" clip-path=\"url(#p7522bca409)\" style=\"fill: #03051a\"/>\n    <path d=\"M 315.961406 313.379141 \nL 365.561406 313.379141 \nL 365.561406 373.779141 \nL 315.961406 373.779141 \nL 315.961406 313.379141 \n\" clip-path=\"url(#p7522bca409)\" style=\"fill: #03051a\"/>\n    <path d=\"M 365.561406 313.379141 \nL 415.161406 313.379141 \nL 415.161406 373.779141 \nL 365.561406 373.779141 \nL 365.561406 313.379141 \n\" clip-path=\"url(#p7522bca409)\" style=\"fill: #03051a\"/>\n    <path d=\"M 415.161406 313.379141 \nL 464.761406 313.379141 \nL 464.761406 373.779141 \nL 415.161406 373.779141 \nL 415.161406 313.379141 \n\" clip-path=\"url(#p7522bca409)\" style=\"fill: #03051a\"/>\n    <path d=\"M 464.761406 313.379141 \nL 514.361406 313.379141 \nL 514.361406 373.779141 \nL 464.761406 373.779141 \nL 464.761406 313.379141 \n\" clip-path=\"url(#p7522bca409)\" style=\"fill: #03051a\"/>\n    <path d=\"M 514.361406 313.379141 \nL 563.961406 313.379141 \nL 563.961406 373.779141 \nL 514.361406 373.779141 \nL 514.361406 313.379141 \n\" clip-path=\"url(#p7522bca409)\" style=\"fill: #04051a\"/>\n    <path d=\"M 117.561406 373.779141 \nL 167.161406 373.779141 \nL 167.161406 434.179141 \nL 117.561406 434.179141 \nL 117.561406 373.779141 \n\" clip-path=\"url(#p7522bca409)\" style=\"fill: #0b0920\"/>\n    <path d=\"M 167.161406 373.779141 \nL 216.761406 373.779141 \nL 216.761406 434.179141 \nL 167.161406 434.179141 \nL 167.161406 373.779141 \n\" clip-path=\"url(#p7522bca409)\" style=\"fill: #03051a\"/>\n    <path d=\"M 216.761406 373.779141 \nL 266.361406 373.779141 \nL 266.361406 434.179141 \nL 216.761406 434.179141 \nL 216.761406 373.779141 \n\" clip-path=\"url(#p7522bca409)\" style=\"fill: #0a091f\"/>\n    <path d=\"M 266.361406 373.779141 \nL 315.961406 373.779141 \nL 315.961406 434.179141 \nL 266.361406 434.179141 \nL 266.361406 373.779141 \n\" clip-path=\"url(#p7522bca409)\" style=\"fill: #03051a\"/>\n    <path d=\"M 315.961406 373.779141 \nL 365.561406 373.779141 \nL 365.561406 434.179141 \nL 315.961406 434.179141 \nL 315.961406 373.779141 \n\" clip-path=\"url(#p7522bca409)\" style=\"fill: #0e0b22\"/>\n    <path d=\"M 365.561406 373.779141 \nL 415.161406 373.779141 \nL 415.161406 434.179141 \nL 365.561406 434.179141 \nL 365.561406 373.779141 \n\" clip-path=\"url(#p7522bca409)\" style=\"fill: #03051a\"/>\n    <path d=\"M 415.161406 373.779141 \nL 464.761406 373.779141 \nL 464.761406 434.179141 \nL 415.161406 434.179141 \nL 415.161406 373.779141 \n\" clip-path=\"url(#p7522bca409)\" style=\"fill: #cb1b4f\"/>\n    <path d=\"M 464.761406 373.779141 \nL 514.361406 373.779141 \nL 514.361406 434.179141 \nL 464.761406 434.179141 \nL 464.761406 373.779141 \n\" clip-path=\"url(#p7522bca409)\" style=\"fill: #03051a\"/>\n    <path d=\"M 514.361406 373.779141 \nL 563.961406 373.779141 \nL 563.961406 434.179141 \nL 514.361406 434.179141 \nL 514.361406 373.779141 \n\" clip-path=\"url(#p7522bca409)\" style=\"fill: #0b0920\"/>\n    <path d=\"M 117.561406 434.179141 \nL 167.161406 434.179141 \nL 167.161406 494.579141 \nL 117.561406 494.579141 \nL 117.561406 434.179141 \n\" clip-path=\"url(#p7522bca409)\" style=\"fill: #03051a\"/>\n    <path d=\"M 167.161406 434.179141 \nL 216.761406 434.179141 \nL 216.761406 494.579141 \nL 167.161406 494.579141 \nL 167.161406 434.179141 \n\" clip-path=\"url(#p7522bca409)\" style=\"fill: #211330\"/>\n    <path d=\"M 216.761406 434.179141 \nL 266.361406 434.179141 \nL 266.361406 494.579141 \nL 216.761406 494.579141 \nL 216.761406 434.179141 \n\" clip-path=\"url(#p7522bca409)\" style=\"fill: #0d0a21\"/>\n    <path d=\"M 266.361406 434.179141 \nL 315.961406 434.179141 \nL 315.961406 494.579141 \nL 266.361406 494.579141 \nL 266.361406 434.179141 \n\" clip-path=\"url(#p7522bca409)\" style=\"fill: #03051a\"/>\n    <path d=\"M 315.961406 434.179141 \nL 365.561406 434.179141 \nL 365.561406 494.579141 \nL 315.961406 494.579141 \nL 315.961406 434.179141 \n\" clip-path=\"url(#p7522bca409)\" style=\"fill: #0e0b22\"/>\n    <path d=\"M 365.561406 434.179141 \nL 415.161406 434.179141 \nL 415.161406 494.579141 \nL 365.561406 494.579141 \nL 365.561406 434.179141 \n\" clip-path=\"url(#p7522bca409)\" style=\"fill: #03051a\"/>\n    <path d=\"M 415.161406 434.179141 \nL 464.761406 434.179141 \nL 464.761406 494.579141 \nL 415.161406 494.579141 \nL 415.161406 434.179141 \n\" clip-path=\"url(#p7522bca409)\" style=\"fill: #03051a\"/>\n    <path d=\"M 464.761406 434.179141 \nL 514.361406 434.179141 \nL 514.361406 494.579141 \nL 464.761406 494.579141 \nL 464.761406 434.179141 \n\" clip-path=\"url(#p7522bca409)\" style=\"fill: #03051a\"/>\n    <path d=\"M 514.361406 434.179141 \nL 563.961406 434.179141 \nL 563.961406 494.579141 \nL 514.361406 494.579141 \nL 514.361406 434.179141 \n\" clip-path=\"url(#p7522bca409)\" style=\"fill: #08081e\"/>\n    <path d=\"M 117.561406 494.579141 \nL 167.161406 494.579141 \nL 167.161406 554.979141 \nL 117.561406 554.979141 \nL 117.561406 494.579141 \n\" clip-path=\"url(#p7522bca409)\" style=\"fill: #2a1636\"/>\n    <path d=\"M 167.161406 494.579141 \nL 216.761406 494.579141 \nL 216.761406 554.979141 \nL 167.161406 554.979141 \nL 167.161406 494.579141 \n\" clip-path=\"url(#p7522bca409)\" style=\"fill: #531e4d\"/>\n    <path d=\"M 216.761406 494.579141 \nL 266.361406 494.579141 \nL 266.361406 554.979141 \nL 216.761406 554.979141 \nL 216.761406 494.579141 \n\" clip-path=\"url(#p7522bca409)\" style=\"fill: #33183c\"/>\n    <path d=\"M 266.361406 494.579141 \nL 315.961406 494.579141 \nL 315.961406 554.979141 \nL 266.361406 554.979141 \nL 266.361406 494.579141 \n\" clip-path=\"url(#p7522bca409)\" style=\"fill: #faebdd\"/>\n    <path d=\"M 315.961406 494.579141 \nL 365.561406 494.579141 \nL 365.561406 554.979141 \nL 315.961406 554.979141 \nL 315.961406 494.579141 \n\" clip-path=\"url(#p7522bca409)\" style=\"fill: #9a1b5b\"/>\n    <path d=\"M 365.561406 494.579141 \nL 415.161406 494.579141 \nL 415.161406 554.979141 \nL 365.561406 554.979141 \nL 365.561406 494.579141 \n\" clip-path=\"url(#p7522bca409)\" style=\"fill: #03051a\"/>\n    <path d=\"M 415.161406 494.579141 \nL 464.761406 494.579141 \nL 464.761406 554.979141 \nL 415.161406 554.979141 \nL 415.161406 494.579141 \n\" clip-path=\"url(#p7522bca409)\" style=\"fill: #03051a\"/>\n    <path d=\"M 464.761406 494.579141 \nL 514.361406 494.579141 \nL 514.361406 554.979141 \nL 464.761406 554.979141 \nL 464.761406 494.579141 \n\" clip-path=\"url(#p7522bca409)\" style=\"fill: #611f53\"/>\n    <path d=\"M 514.361406 494.579141 \nL 563.961406 494.579141 \nL 563.961406 554.979141 \nL 514.361406 554.979141 \nL 514.361406 494.579141 \n\" clip-path=\"url(#p7522bca409)\" style=\"fill: #ba1656\"/>\n   </g>\n   <g id=\"text_19\">\n    <!-- 0.083 -->\n    <g style=\"fill: #ffffff\" transform=\"translate(125.184531 44.890391)scale(0.12 -0.12)\">\n     <defs>\n      <path id=\"DejaVuSans-30\" d=\"M 2034 4250 \nQ 1547 4250 1301 3770 \nQ 1056 3291 1056 2328 \nQ 1056 1369 1301 889 \nQ 1547 409 2034 409 \nQ 2525 409 2770 889 \nQ 3016 1369 3016 2328 \nQ 3016 3291 2770 3770 \nQ 2525 4250 2034 4250 \nz\nM 2034 4750 \nQ 2819 4750 3233 4129 \nQ 3647 3509 3647 2328 \nQ 3647 1150 3233 529 \nQ 2819 -91 2034 -91 \nQ 1250 -91 836 529 \nQ 422 1150 422 2328 \nQ 422 3509 836 4129 \nQ 1250 4750 2034 4750 \nz\n\" transform=\"scale(0.015625)\"/>\n      <path id=\"DejaVuSans-2e\" d=\"M 684 794 \nL 1344 794 \nL 1344 0 \nL 684 0 \nL 684 794 \nz\n\" transform=\"scale(0.015625)\"/>\n      <path id=\"DejaVuSans-38\" d=\"M 2034 2216 \nQ 1584 2216 1326 1975 \nQ 1069 1734 1069 1313 \nQ 1069 891 1326 650 \nQ 1584 409 2034 409 \nQ 2484 409 2743 651 \nQ 3003 894 3003 1313 \nQ 3003 1734 2745 1975 \nQ 2488 2216 2034 2216 \nz\nM 1403 2484 \nQ 997 2584 770 2862 \nQ 544 3141 544 3541 \nQ 544 4100 942 4425 \nQ 1341 4750 2034 4750 \nQ 2731 4750 3128 4425 \nQ 3525 4100 3525 3541 \nQ 3525 3141 3298 2862 \nQ 3072 2584 2669 2484 \nQ 3125 2378 3379 2068 \nQ 3634 1759 3634 1313 \nQ 3634 634 3220 271 \nQ 2806 -91 2034 -91 \nQ 1263 -91 848 271 \nQ 434 634 434 1313 \nQ 434 1759 690 2068 \nQ 947 2378 1403 2484 \nz\nM 1172 3481 \nQ 1172 3119 1398 2916 \nQ 1625 2713 2034 2713 \nQ 2441 2713 2670 2916 \nQ 2900 3119 2900 3481 \nQ 2900 3844 2670 4047 \nQ 2441 4250 2034 4250 \nQ 1625 4250 1398 4047 \nQ 1172 3844 1172 3481 \nz\n\" transform=\"scale(0.015625)\"/>\n      <path id=\"DejaVuSans-33\" d=\"M 2597 2516 \nQ 3050 2419 3304 2112 \nQ 3559 1806 3559 1356 \nQ 3559 666 3084 287 \nQ 2609 -91 1734 -91 \nQ 1441 -91 1130 -33 \nQ 819 25 488 141 \nL 488 750 \nQ 750 597 1062 519 \nQ 1375 441 1716 441 \nQ 2309 441 2620 675 \nQ 2931 909 2931 1356 \nQ 2931 1769 2642 2001 \nQ 2353 2234 1838 2234 \nL 1294 2234 \nL 1294 2753 \nL 1863 2753 \nQ 2328 2753 2575 2939 \nQ 2822 3125 2822 3475 \nQ 2822 3834 2567 4026 \nQ 2313 4219 1838 4219 \nQ 1578 4219 1281 4162 \nQ 984 4106 628 3988 \nL 628 4550 \nQ 988 4650 1302 4700 \nQ 1616 4750 1894 4750 \nQ 2613 4750 3031 4423 \nQ 3450 4097 3450 3541 \nQ 3450 3153 3228 2886 \nQ 3006 2619 2597 2516 \nz\n\" transform=\"scale(0.015625)\"/>\n     </defs>\n     <use xlink:href=\"#DejaVuSans-30\"/>\n     <use xlink:href=\"#DejaVuSans-2e\" x=\"63.623047\"/>\n     <use xlink:href=\"#DejaVuSans-30\" x=\"95.410156\"/>\n     <use xlink:href=\"#DejaVuSans-38\" x=\"159.033203\"/>\n     <use xlink:href=\"#DejaVuSans-33\" x=\"222.65625\"/>\n    </g>\n   </g>\n   <g id=\"text_20\">\n    <!-- 0 -->\n    <g style=\"fill: #ffffff\" transform=\"translate(188.143906 44.890391)scale(0.12 -0.12)\">\n     <use xlink:href=\"#DejaVuSans-30\"/>\n    </g>\n   </g>\n   <g id=\"text_21\">\n    <!-- 0.17 -->\n    <g style=\"fill: #ffffff\" transform=\"translate(228.202031 44.890391)scale(0.12 -0.12)\">\n     <defs>\n      <path id=\"DejaVuSans-31\" d=\"M 794 531 \nL 1825 531 \nL 1825 4091 \nL 703 3866 \nL 703 4441 \nL 1819 4666 \nL 2450 4666 \nL 2450 531 \nL 3481 531 \nL 3481 0 \nL 794 0 \nL 794 531 \nz\n\" transform=\"scale(0.015625)\"/>\n      <path id=\"DejaVuSans-37\" d=\"M 525 4666 \nL 3525 4666 \nL 3525 4397 \nL 1831 0 \nL 1172 0 \nL 2766 4134 \nL 525 4134 \nL 525 4666 \nz\n\" transform=\"scale(0.015625)\"/>\n     </defs>\n     <use xlink:href=\"#DejaVuSans-30\"/>\n     <use xlink:href=\"#DejaVuSans-2e\" x=\"63.623047\"/>\n     <use xlink:href=\"#DejaVuSans-31\" x=\"95.410156\"/>\n     <use xlink:href=\"#DejaVuSans-37\" x=\"159.033203\"/>\n    </g>\n   </g>\n   <g id=\"text_22\">\n    <!-- 0 -->\n    <g style=\"fill: #ffffff\" transform=\"translate(287.343906 44.890391)scale(0.12 -0.12)\">\n     <use xlink:href=\"#DejaVuSans-30\"/>\n    </g>\n   </g>\n   <g id=\"text_23\">\n    <!-- 0 -->\n    <g style=\"fill: #ffffff\" transform=\"translate(336.943906 44.890391)scale(0.12 -0.12)\">\n     <use xlink:href=\"#DejaVuSans-30\"/>\n    </g>\n   </g>\n   <g id=\"text_24\">\n    <!-- 0 -->\n    <g style=\"fill: #ffffff\" transform=\"translate(386.543906 44.890391)scale(0.12 -0.12)\">\n     <use xlink:href=\"#DejaVuSans-30\"/>\n    </g>\n   </g>\n   <g id=\"text_25\">\n    <!-- 0.17 -->\n    <g style=\"fill: #ffffff\" transform=\"translate(426.602031 44.890391)scale(0.12 -0.12)\">\n     <use xlink:href=\"#DejaVuSans-30\"/>\n     <use xlink:href=\"#DejaVuSans-2e\" x=\"63.623047\"/>\n     <use xlink:href=\"#DejaVuSans-31\" x=\"95.410156\"/>\n     <use xlink:href=\"#DejaVuSans-37\" x=\"159.033203\"/>\n    </g>\n   </g>\n   <g id=\"text_26\">\n    <!-- 0.25 -->\n    <g style=\"fill: #ffffff\" transform=\"translate(476.202031 44.890391)scale(0.12 -0.12)\">\n     <defs>\n      <path id=\"DejaVuSans-32\" d=\"M 1228 531 \nL 3431 531 \nL 3431 0 \nL 469 0 \nL 469 531 \nQ 828 903 1448 1529 \nQ 2069 2156 2228 2338 \nQ 2531 2678 2651 2914 \nQ 2772 3150 2772 3378 \nQ 2772 3750 2511 3984 \nQ 2250 4219 1831 4219 \nQ 1534 4219 1204 4116 \nQ 875 4013 500 3803 \nL 500 4441 \nQ 881 4594 1212 4672 \nQ 1544 4750 1819 4750 \nQ 2544 4750 2975 4387 \nQ 3406 4025 3406 3419 \nQ 3406 3131 3298 2873 \nQ 3191 2616 2906 2266 \nQ 2828 2175 2409 1742 \nQ 1991 1309 1228 531 \nz\n\" transform=\"scale(0.015625)\"/>\n      <path id=\"DejaVuSans-35\" d=\"M 691 4666 \nL 3169 4666 \nL 3169 4134 \nL 1269 4134 \nL 1269 2991 \nQ 1406 3038 1543 3061 \nQ 1681 3084 1819 3084 \nQ 2600 3084 3056 2656 \nQ 3513 2228 3513 1497 \nQ 3513 744 3044 326 \nQ 2575 -91 1722 -91 \nQ 1428 -91 1123 -41 \nQ 819 9 494 109 \nL 494 744 \nQ 775 591 1075 516 \nQ 1375 441 1709 441 \nQ 2250 441 2565 725 \nQ 2881 1009 2881 1497 \nQ 2881 1984 2565 2268 \nQ 2250 2553 1709 2553 \nQ 1456 2553 1204 2497 \nQ 953 2441 691 2322 \nL 691 4666 \nz\n\" transform=\"scale(0.015625)\"/>\n     </defs>\n     <use xlink:href=\"#DejaVuSans-30\"/>\n     <use xlink:href=\"#DejaVuSans-2e\" x=\"63.623047\"/>\n     <use xlink:href=\"#DejaVuSans-32\" x=\"95.410156\"/>\n     <use xlink:href=\"#DejaVuSans-35\" x=\"159.033203\"/>\n    </g>\n   </g>\n   <g id=\"text_27\">\n    <!-- 0.088 -->\n    <g style=\"fill: #ffffff\" transform=\"translate(521.984531 44.890391)scale(0.12 -0.12)\">\n     <use xlink:href=\"#DejaVuSans-30\"/>\n     <use xlink:href=\"#DejaVuSans-2e\" x=\"63.623047\"/>\n     <use xlink:href=\"#DejaVuSans-30\" x=\"95.410156\"/>\n     <use xlink:href=\"#DejaVuSans-38\" x=\"159.033203\"/>\n     <use xlink:href=\"#DejaVuSans-38\" x=\"222.65625\"/>\n    </g>\n   </g>\n   <g id=\"text_28\">\n    <!-- 0.028 -->\n    <g style=\"fill: #ffffff\" transform=\"translate(125.184531 105.290391)scale(0.12 -0.12)\">\n     <use xlink:href=\"#DejaVuSans-30\"/>\n     <use xlink:href=\"#DejaVuSans-2e\" x=\"63.623047\"/>\n     <use xlink:href=\"#DejaVuSans-30\" x=\"95.410156\"/>\n     <use xlink:href=\"#DejaVuSans-32\" x=\"159.033203\"/>\n     <use xlink:href=\"#DejaVuSans-38\" x=\"222.65625\"/>\n    </g>\n   </g>\n   <g id=\"text_29\">\n    <!-- 0.3 -->\n    <g style=\"fill: #ffffff\" transform=\"translate(182.419531 105.290391)scale(0.12 -0.12)\">\n     <use xlink:href=\"#DejaVuSans-30\"/>\n     <use xlink:href=\"#DejaVuSans-2e\" x=\"63.623047\"/>\n     <use xlink:href=\"#DejaVuSans-33\" x=\"95.410156\"/>\n    </g>\n   </g>\n   <g id=\"text_30\">\n    <!-- 0.063 -->\n    <g style=\"fill: #ffffff\" transform=\"translate(224.384531 105.290391)scale(0.12 -0.12)\">\n     <defs>\n      <path id=\"DejaVuSans-36\" d=\"M 2113 2584 \nQ 1688 2584 1439 2293 \nQ 1191 2003 1191 1497 \nQ 1191 994 1439 701 \nQ 1688 409 2113 409 \nQ 2538 409 2786 701 \nQ 3034 994 3034 1497 \nQ 3034 2003 2786 2293 \nQ 2538 2584 2113 2584 \nz\nM 3366 4563 \nL 3366 3988 \nQ 3128 4100 2886 4159 \nQ 2644 4219 2406 4219 \nQ 1781 4219 1451 3797 \nQ 1122 3375 1075 2522 \nQ 1259 2794 1537 2939 \nQ 1816 3084 2150 3084 \nQ 2853 3084 3261 2657 \nQ 3669 2231 3669 1497 \nQ 3669 778 3244 343 \nQ 2819 -91 2113 -91 \nQ 1303 -91 875 529 \nQ 447 1150 447 2328 \nQ 447 3434 972 4092 \nQ 1497 4750 2381 4750 \nQ 2619 4750 2861 4703 \nQ 3103 4656 3366 4563 \nz\n\" transform=\"scale(0.015625)\"/>\n     </defs>\n     <use xlink:href=\"#DejaVuSans-30\"/>\n     <use xlink:href=\"#DejaVuSans-2e\" x=\"63.623047\"/>\n     <use xlink:href=\"#DejaVuSans-30\" x=\"95.410156\"/>\n     <use xlink:href=\"#DejaVuSans-36\" x=\"159.033203\"/>\n     <use xlink:href=\"#DejaVuSans-33\" x=\"222.65625\"/>\n    </g>\n   </g>\n   <g id=\"text_31\">\n    <!-- 0 -->\n    <g style=\"fill: #ffffff\" transform=\"translate(287.343906 105.290391)scale(0.12 -0.12)\">\n     <use xlink:href=\"#DejaVuSans-30\"/>\n    </g>\n   </g>\n   <g id=\"text_32\">\n    <!-- 0.077 -->\n    <g style=\"fill: #ffffff\" transform=\"translate(323.584531 105.290391)scale(0.12 -0.12)\">\n     <use xlink:href=\"#DejaVuSans-30\"/>\n     <use xlink:href=\"#DejaVuSans-2e\" x=\"63.623047\"/>\n     <use xlink:href=\"#DejaVuSans-30\" x=\"95.410156\"/>\n     <use xlink:href=\"#DejaVuSans-37\" x=\"159.033203\"/>\n     <use xlink:href=\"#DejaVuSans-37\" x=\"222.65625\"/>\n    </g>\n   </g>\n   <g id=\"text_33\">\n    <!-- 0.5 -->\n    <g style=\"fill: #ffffff\" transform=\"translate(380.819531 105.290391)scale(0.12 -0.12)\">\n     <use xlink:href=\"#DejaVuSans-30\"/>\n     <use xlink:href=\"#DejaVuSans-2e\" x=\"63.623047\"/>\n     <use xlink:href=\"#DejaVuSans-35\" x=\"95.410156\"/>\n    </g>\n   </g>\n   <g id=\"text_34\">\n    <!-- 0 -->\n    <g style=\"fill: #ffffff\" transform=\"translate(436.143906 105.290391)scale(0.12 -0.12)\">\n     <use xlink:href=\"#DejaVuSans-30\"/>\n    </g>\n   </g>\n   <g id=\"text_35\">\n    <!-- 0.25 -->\n    <g style=\"fill: #ffffff\" transform=\"translate(476.202031 105.290391)scale(0.12 -0.12)\">\n     <use xlink:href=\"#DejaVuSans-30\"/>\n     <use xlink:href=\"#DejaVuSans-2e\" x=\"63.623047\"/>\n     <use xlink:href=\"#DejaVuSans-32\" x=\"95.410156\"/>\n     <use xlink:href=\"#DejaVuSans-35\" x=\"159.033203\"/>\n    </g>\n   </g>\n   <g id=\"text_36\">\n    <!-- 0.12 -->\n    <g style=\"fill: #ffffff\" transform=\"translate(525.802031 105.290391)scale(0.12 -0.12)\">\n     <use xlink:href=\"#DejaVuSans-30\"/>\n     <use xlink:href=\"#DejaVuSans-2e\" x=\"63.623047\"/>\n     <use xlink:href=\"#DejaVuSans-31\" x=\"95.410156\"/>\n     <use xlink:href=\"#DejaVuSans-32\" x=\"159.033203\"/>\n    </g>\n   </g>\n   <g id=\"text_37\">\n    <!-- 0.64 -->\n    <g style=\"fill: #ffffff\" transform=\"translate(129.002031 165.690391)scale(0.12 -0.12)\">\n     <defs>\n      <path id=\"DejaVuSans-34\" d=\"M 2419 4116 \nL 825 1625 \nL 2419 1625 \nL 2419 4116 \nz\nM 2253 4666 \nL 3047 4666 \nL 3047 1625 \nL 3713 1625 \nL 3713 1100 \nL 3047 1100 \nL 3047 0 \nL 2419 0 \nL 2419 1100 \nL 313 1100 \nL 313 1709 \nL 2253 4666 \nz\n\" transform=\"scale(0.015625)\"/>\n     </defs>\n     <use xlink:href=\"#DejaVuSans-30\"/>\n     <use xlink:href=\"#DejaVuSans-2e\" x=\"63.623047\"/>\n     <use xlink:href=\"#DejaVuSans-36\" x=\"95.410156\"/>\n     <use xlink:href=\"#DejaVuSans-34\" x=\"159.033203\"/>\n    </g>\n   </g>\n   <g id=\"text_38\">\n    <!-- 0.3 -->\n    <g style=\"fill: #ffffff\" transform=\"translate(182.419531 165.690391)scale(0.12 -0.12)\">\n     <use xlink:href=\"#DejaVuSans-30\"/>\n     <use xlink:href=\"#DejaVuSans-2e\" x=\"63.623047\"/>\n     <use xlink:href=\"#DejaVuSans-33\" x=\"95.410156\"/>\n    </g>\n   </g>\n   <g id=\"text_39\">\n    <!-- 0.47 -->\n    <g style=\"fill: #ffffff\" transform=\"translate(228.202031 165.690391)scale(0.12 -0.12)\">\n     <use xlink:href=\"#DejaVuSans-30\"/>\n     <use xlink:href=\"#DejaVuSans-2e\" x=\"63.623047\"/>\n     <use xlink:href=\"#DejaVuSans-34\" x=\"95.410156\"/>\n     <use xlink:href=\"#DejaVuSans-37\" x=\"159.033203\"/>\n    </g>\n   </g>\n   <g id=\"text_40\">\n    <!-- 0 -->\n    <g style=\"fill: #ffffff\" transform=\"translate(287.343906 165.690391)scale(0.12 -0.12)\">\n     <use xlink:href=\"#DejaVuSans-30\"/>\n    </g>\n   </g>\n   <g id=\"text_41\">\n    <!-- 0.12 -->\n    <g style=\"fill: #ffffff\" transform=\"translate(327.402031 165.690391)scale(0.12 -0.12)\">\n     <use xlink:href=\"#DejaVuSans-30\"/>\n     <use xlink:href=\"#DejaVuSans-2e\" x=\"63.623047\"/>\n     <use xlink:href=\"#DejaVuSans-31\" x=\"95.410156\"/>\n     <use xlink:href=\"#DejaVuSans-32\" x=\"159.033203\"/>\n    </g>\n   </g>\n   <g id=\"text_42\">\n    <!-- 0.5 -->\n    <g style=\"fill: #ffffff\" transform=\"translate(380.819531 165.690391)scale(0.12 -0.12)\">\n     <use xlink:href=\"#DejaVuSans-30\"/>\n     <use xlink:href=\"#DejaVuSans-2e\" x=\"63.623047\"/>\n     <use xlink:href=\"#DejaVuSans-35\" x=\"95.410156\"/>\n    </g>\n   </g>\n   <g id=\"text_43\">\n    <!-- 0.33 -->\n    <g style=\"fill: #ffffff\" transform=\"translate(426.602031 165.690391)scale(0.12 -0.12)\">\n     <use xlink:href=\"#DejaVuSans-30\"/>\n     <use xlink:href=\"#DejaVuSans-2e\" x=\"63.623047\"/>\n     <use xlink:href=\"#DejaVuSans-33\" x=\"95.410156\"/>\n     <use xlink:href=\"#DejaVuSans-33\" x=\"159.033203\"/>\n    </g>\n   </g>\n   <g id=\"text_44\">\n    <!-- 0.25 -->\n    <g style=\"fill: #ffffff\" transform=\"translate(476.202031 165.690391)scale(0.12 -0.12)\">\n     <use xlink:href=\"#DejaVuSans-30\"/>\n     <use xlink:href=\"#DejaVuSans-2e\" x=\"63.623047\"/>\n     <use xlink:href=\"#DejaVuSans-32\" x=\"95.410156\"/>\n     <use xlink:href=\"#DejaVuSans-35\" x=\"159.033203\"/>\n    </g>\n   </g>\n   <g id=\"text_45\">\n    <!-- 0.12 -->\n    <g style=\"fill: #ffffff\" transform=\"translate(525.802031 165.690391)scale(0.12 -0.12)\">\n     <use xlink:href=\"#DejaVuSans-30\"/>\n     <use xlink:href=\"#DejaVuSans-2e\" x=\"63.623047\"/>\n     <use xlink:href=\"#DejaVuSans-31\" x=\"95.410156\"/>\n     <use xlink:href=\"#DejaVuSans-32\" x=\"159.033203\"/>\n    </g>\n   </g>\n   <g id=\"text_46\">\n    <!-- 0.083 -->\n    <g style=\"fill: #ffffff\" transform=\"translate(125.184531 226.090391)scale(0.12 -0.12)\">\n     <use xlink:href=\"#DejaVuSans-30\"/>\n     <use xlink:href=\"#DejaVuSans-2e\" x=\"63.623047\"/>\n     <use xlink:href=\"#DejaVuSans-30\" x=\"95.410156\"/>\n     <use xlink:href=\"#DejaVuSans-38\" x=\"159.033203\"/>\n     <use xlink:href=\"#DejaVuSans-33\" x=\"222.65625\"/>\n    </g>\n   </g>\n   <g id=\"text_47\">\n    <!-- 0 -->\n    <g style=\"fill: #ffffff\" transform=\"translate(188.143906 226.090391)scale(0.12 -0.12)\">\n     <use xlink:href=\"#DejaVuSans-30\"/>\n    </g>\n   </g>\n   <g id=\"text_48\">\n    <!-- 0.019 -->\n    <g style=\"fill: #ffffff\" transform=\"translate(224.384531 226.090391)scale(0.12 -0.12)\">\n     <defs>\n      <path id=\"DejaVuSans-39\" d=\"M 703 97 \nL 703 672 \nQ 941 559 1184 500 \nQ 1428 441 1663 441 \nQ 2288 441 2617 861 \nQ 2947 1281 2994 2138 \nQ 2813 1869 2534 1725 \nQ 2256 1581 1919 1581 \nQ 1219 1581 811 2004 \nQ 403 2428 403 3163 \nQ 403 3881 828 4315 \nQ 1253 4750 1959 4750 \nQ 2769 4750 3195 4129 \nQ 3622 3509 3622 2328 \nQ 3622 1225 3098 567 \nQ 2575 -91 1691 -91 \nQ 1453 -91 1209 -44 \nQ 966 3 703 97 \nz\nM 1959 2075 \nQ 2384 2075 2632 2365 \nQ 2881 2656 2881 3163 \nQ 2881 3666 2632 3958 \nQ 2384 4250 1959 4250 \nQ 1534 4250 1286 3958 \nQ 1038 3666 1038 3163 \nQ 1038 2656 1286 2365 \nQ 1534 2075 1959 2075 \nz\n\" transform=\"scale(0.015625)\"/>\n     </defs>\n     <use xlink:href=\"#DejaVuSans-30\"/>\n     <use xlink:href=\"#DejaVuSans-2e\" x=\"63.623047\"/>\n     <use xlink:href=\"#DejaVuSans-30\" x=\"95.410156\"/>\n     <use xlink:href=\"#DejaVuSans-31\" x=\"159.033203\"/>\n     <use xlink:href=\"#DejaVuSans-39\" x=\"222.65625\"/>\n    </g>\n   </g>\n   <g id=\"text_49\">\n    <!-- 0 -->\n    <g style=\"fill: #ffffff\" transform=\"translate(287.343906 226.090391)scale(0.12 -0.12)\">\n     <use xlink:href=\"#DejaVuSans-30\"/>\n    </g>\n   </g>\n   <g id=\"text_50\">\n    <!-- 0.038 -->\n    <g style=\"fill: #ffffff\" transform=\"translate(323.584531 226.090391)scale(0.12 -0.12)\">\n     <use xlink:href=\"#DejaVuSans-30\"/>\n     <use xlink:href=\"#DejaVuSans-2e\" x=\"63.623047\"/>\n     <use xlink:href=\"#DejaVuSans-30\" x=\"95.410156\"/>\n     <use xlink:href=\"#DejaVuSans-33\" x=\"159.033203\"/>\n     <use xlink:href=\"#DejaVuSans-38\" x=\"222.65625\"/>\n    </g>\n   </g>\n   <g id=\"text_51\">\n    <!-- 0 -->\n    <g style=\"fill: #ffffff\" transform=\"translate(386.543906 226.090391)scale(0.12 -0.12)\">\n     <use xlink:href=\"#DejaVuSans-30\"/>\n    </g>\n   </g>\n   <g id=\"text_52\">\n    <!-- 0 -->\n    <g style=\"fill: #ffffff\" transform=\"translate(436.143906 226.090391)scale(0.12 -0.12)\">\n     <use xlink:href=\"#DejaVuSans-30\"/>\n    </g>\n   </g>\n   <g id=\"text_53\">\n    <!-- 0 -->\n    <g style=\"fill: #ffffff\" transform=\"translate(485.743906 226.090391)scale(0.12 -0.12)\">\n     <use xlink:href=\"#DejaVuSans-30\"/>\n    </g>\n   </g>\n   <g id=\"text_54\">\n    <!-- 0.022 -->\n    <g style=\"fill: #ffffff\" transform=\"translate(521.984531 226.090391)scale(0.12 -0.12)\">\n     <use xlink:href=\"#DejaVuSans-30\"/>\n     <use xlink:href=\"#DejaVuSans-2e\" x=\"63.623047\"/>\n     <use xlink:href=\"#DejaVuSans-30\" x=\"95.410156\"/>\n     <use xlink:href=\"#DejaVuSans-32\" x=\"159.033203\"/>\n     <use xlink:href=\"#DejaVuSans-32\" x=\"222.65625\"/>\n    </g>\n   </g>\n   <g id=\"text_55\">\n    <!-- 0.028 -->\n    <g style=\"fill: #ffffff\" transform=\"translate(125.184531 286.490391)scale(0.12 -0.12)\">\n     <use xlink:href=\"#DejaVuSans-30\"/>\n     <use xlink:href=\"#DejaVuSans-2e\" x=\"63.623047\"/>\n     <use xlink:href=\"#DejaVuSans-30\" x=\"95.410156\"/>\n     <use xlink:href=\"#DejaVuSans-32\" x=\"159.033203\"/>\n     <use xlink:href=\"#DejaVuSans-38\" x=\"222.65625\"/>\n    </g>\n   </g>\n   <g id=\"text_56\">\n    <!-- 0.087 -->\n    <g style=\"fill: #ffffff\" transform=\"translate(174.784531 286.490391)scale(0.12 -0.12)\">\n     <use xlink:href=\"#DejaVuSans-30\"/>\n     <use xlink:href=\"#DejaVuSans-2e\" x=\"63.623047\"/>\n     <use xlink:href=\"#DejaVuSans-30\" x=\"95.410156\"/>\n     <use xlink:href=\"#DejaVuSans-38\" x=\"159.033203\"/>\n     <use xlink:href=\"#DejaVuSans-37\" x=\"222.65625\"/>\n    </g>\n   </g>\n   <g id=\"text_57\">\n    <!-- 0.071 -->\n    <g style=\"fill: #ffffff\" transform=\"translate(224.384531 286.490391)scale(0.12 -0.12)\">\n     <use xlink:href=\"#DejaVuSans-30\"/>\n     <use xlink:href=\"#DejaVuSans-2e\" x=\"63.623047\"/>\n     <use xlink:href=\"#DejaVuSans-30\" x=\"95.410156\"/>\n     <use xlink:href=\"#DejaVuSans-37\" x=\"159.033203\"/>\n     <use xlink:href=\"#DejaVuSans-31\" x=\"222.65625\"/>\n    </g>\n   </g>\n   <g id=\"text_58\">\n    <!-- 0 -->\n    <g style=\"fill: #ffffff\" transform=\"translate(287.343906 286.490391)scale(0.12 -0.12)\">\n     <use xlink:href=\"#DejaVuSans-30\"/>\n    </g>\n   </g>\n   <g id=\"text_59\">\n    <!-- 0.31 -->\n    <g style=\"fill: #ffffff\" transform=\"translate(327.402031 286.490391)scale(0.12 -0.12)\">\n     <use xlink:href=\"#DejaVuSans-30\"/>\n     <use xlink:href=\"#DejaVuSans-2e\" x=\"63.623047\"/>\n     <use xlink:href=\"#DejaVuSans-33\" x=\"95.410156\"/>\n     <use xlink:href=\"#DejaVuSans-31\" x=\"159.033203\"/>\n    </g>\n   </g>\n   <g id=\"text_60\">\n    <!-- 0 -->\n    <g style=\"fill: #ffffff\" transform=\"translate(386.543906 286.490391)scale(0.12 -0.12)\">\n     <use xlink:href=\"#DejaVuSans-30\"/>\n    </g>\n   </g>\n   <g id=\"text_61\">\n    <!-- 0 -->\n    <g style=\"fill: #ffffff\" transform=\"translate(436.143906 286.490391)scale(0.12 -0.12)\">\n     <use xlink:href=\"#DejaVuSans-30\"/>\n    </g>\n   </g>\n   <g id=\"text_62\">\n    <!-- 0 -->\n    <g style=\"fill: #ffffff\" transform=\"translate(485.743906 286.490391)scale(0.12 -0.12)\">\n     <use xlink:href=\"#DejaVuSans-30\"/>\n    </g>\n   </g>\n   <g id=\"text_63\">\n    <!-- 0.13 -->\n    <g style=\"fill: #ffffff\" transform=\"translate(525.802031 286.490391)scale(0.12 -0.12)\">\n     <use xlink:href=\"#DejaVuSans-30\"/>\n     <use xlink:href=\"#DejaVuSans-2e\" x=\"63.623047\"/>\n     <use xlink:href=\"#DejaVuSans-31\" x=\"95.410156\"/>\n     <use xlink:href=\"#DejaVuSans-33\" x=\"159.033203\"/>\n    </g>\n   </g>\n   <g id=\"text_64\">\n    <!-- 0 -->\n    <g style=\"fill: #ffffff\" transform=\"translate(138.543906 346.890391)scale(0.12 -0.12)\">\n     <use xlink:href=\"#DejaVuSans-30\"/>\n    </g>\n   </g>\n   <g id=\"text_65\">\n    <!-- 0 -->\n    <g style=\"fill: #ffffff\" transform=\"translate(188.143906 346.890391)scale(0.12 -0.12)\">\n     <use xlink:href=\"#DejaVuSans-30\"/>\n    </g>\n   </g>\n   <g id=\"text_66\">\n    <!-- 0.0087 -->\n    <g style=\"fill: #ffffff\" transform=\"translate(220.567031 346.890391)scale(0.12 -0.12)\">\n     <use xlink:href=\"#DejaVuSans-30\"/>\n     <use xlink:href=\"#DejaVuSans-2e\" x=\"63.623047\"/>\n     <use xlink:href=\"#DejaVuSans-30\" x=\"95.410156\"/>\n     <use xlink:href=\"#DejaVuSans-30\" x=\"159.033203\"/>\n     <use xlink:href=\"#DejaVuSans-38\" x=\"222.65625\"/>\n     <use xlink:href=\"#DejaVuSans-37\" x=\"286.279297\"/>\n    </g>\n   </g>\n   <g id=\"text_67\">\n    <!-- 0 -->\n    <g style=\"fill: #ffffff\" transform=\"translate(287.343906 346.890391)scale(0.12 -0.12)\">\n     <use xlink:href=\"#DejaVuSans-30\"/>\n    </g>\n   </g>\n   <g id=\"text_68\">\n    <!-- 0 -->\n    <g style=\"fill: #ffffff\" transform=\"translate(336.943906 346.890391)scale(0.12 -0.12)\">\n     <use xlink:href=\"#DejaVuSans-30\"/>\n    </g>\n   </g>\n   <g id=\"text_69\">\n    <!-- 0 -->\n    <g style=\"fill: #ffffff\" transform=\"translate(386.543906 346.890391)scale(0.12 -0.12)\">\n     <use xlink:href=\"#DejaVuSans-30\"/>\n    </g>\n   </g>\n   <g id=\"text_70\">\n    <!-- 0 -->\n    <g style=\"fill: #ffffff\" transform=\"translate(436.143906 346.890391)scale(0.12 -0.12)\">\n     <use xlink:href=\"#DejaVuSans-30\"/>\n    </g>\n   </g>\n   <g id=\"text_71\">\n    <!-- 0 -->\n    <g style=\"fill: #ffffff\" transform=\"translate(485.743906 346.890391)scale(0.12 -0.12)\">\n     <use xlink:href=\"#DejaVuSans-30\"/>\n    </g>\n   </g>\n   <g id=\"text_72\">\n    <!-- 0.0073 -->\n    <g style=\"fill: #ffffff\" transform=\"translate(518.167031 346.890391)scale(0.12 -0.12)\">\n     <use xlink:href=\"#DejaVuSans-30\"/>\n     <use xlink:href=\"#DejaVuSans-2e\" x=\"63.623047\"/>\n     <use xlink:href=\"#DejaVuSans-30\" x=\"95.410156\"/>\n     <use xlink:href=\"#DejaVuSans-30\" x=\"159.033203\"/>\n     <use xlink:href=\"#DejaVuSans-37\" x=\"222.65625\"/>\n     <use xlink:href=\"#DejaVuSans-33\" x=\"286.279297\"/>\n    </g>\n   </g>\n   <g id=\"text_73\">\n    <!-- 0.028 -->\n    <g style=\"fill: #ffffff\" transform=\"translate(125.184531 407.290391)scale(0.12 -0.12)\">\n     <use xlink:href=\"#DejaVuSans-30\"/>\n     <use xlink:href=\"#DejaVuSans-2e\" x=\"63.623047\"/>\n     <use xlink:href=\"#DejaVuSans-30\" x=\"95.410156\"/>\n     <use xlink:href=\"#DejaVuSans-32\" x=\"159.033203\"/>\n     <use xlink:href=\"#DejaVuSans-38\" x=\"222.65625\"/>\n    </g>\n   </g>\n   <g id=\"text_74\">\n    <!-- 0 -->\n    <g style=\"fill: #ffffff\" transform=\"translate(188.143906 407.290391)scale(0.12 -0.12)\">\n     <use xlink:href=\"#DejaVuSans-30\"/>\n    </g>\n   </g>\n   <g id=\"text_75\">\n    <!-- 0.026 -->\n    <g style=\"fill: #ffffff\" transform=\"translate(224.384531 407.290391)scale(0.12 -0.12)\">\n     <use xlink:href=\"#DejaVuSans-30\"/>\n     <use xlink:href=\"#DejaVuSans-2e\" x=\"63.623047\"/>\n     <use xlink:href=\"#DejaVuSans-30\" x=\"95.410156\"/>\n     <use xlink:href=\"#DejaVuSans-32\" x=\"159.033203\"/>\n     <use xlink:href=\"#DejaVuSans-36\" x=\"222.65625\"/>\n    </g>\n   </g>\n   <g id=\"text_76\">\n    <!-- 0 -->\n    <g style=\"fill: #ffffff\" transform=\"translate(287.343906 407.290391)scale(0.12 -0.12)\">\n     <use xlink:href=\"#DejaVuSans-30\"/>\n    </g>\n   </g>\n   <g id=\"text_77\">\n    <!-- 0.038 -->\n    <g style=\"fill: #ffffff\" transform=\"translate(323.584531 407.290391)scale(0.12 -0.12)\">\n     <use xlink:href=\"#DejaVuSans-30\"/>\n     <use xlink:href=\"#DejaVuSans-2e\" x=\"63.623047\"/>\n     <use xlink:href=\"#DejaVuSans-30\" x=\"95.410156\"/>\n     <use xlink:href=\"#DejaVuSans-33\" x=\"159.033203\"/>\n     <use xlink:href=\"#DejaVuSans-38\" x=\"222.65625\"/>\n    </g>\n   </g>\n   <g id=\"text_78\">\n    <!-- 0 -->\n    <g style=\"fill: #ffffff\" transform=\"translate(386.543906 407.290391)scale(0.12 -0.12)\">\n     <use xlink:href=\"#DejaVuSans-30\"/>\n    </g>\n   </g>\n   <g id=\"text_79\">\n    <!-- 0.5 -->\n    <g style=\"fill: #ffffff\" transform=\"translate(430.419531 407.290391)scale(0.12 -0.12)\">\n     <use xlink:href=\"#DejaVuSans-30\"/>\n     <use xlink:href=\"#DejaVuSans-2e\" x=\"63.623047\"/>\n     <use xlink:href=\"#DejaVuSans-35\" x=\"95.410156\"/>\n    </g>\n   </g>\n   <g id=\"text_80\">\n    <!-- 0 -->\n    <g style=\"fill: #ffffff\" transform=\"translate(485.743906 407.290391)scale(0.12 -0.12)\">\n     <use xlink:href=\"#DejaVuSans-30\"/>\n    </g>\n   </g>\n   <g id=\"text_81\">\n    <!-- 0.029 -->\n    <g style=\"fill: #ffffff\" transform=\"translate(521.984531 407.290391)scale(0.12 -0.12)\">\n     <use xlink:href=\"#DejaVuSans-30\"/>\n     <use xlink:href=\"#DejaVuSans-2e\" x=\"63.623047\"/>\n     <use xlink:href=\"#DejaVuSans-30\" x=\"95.410156\"/>\n     <use xlink:href=\"#DejaVuSans-32\" x=\"159.033203\"/>\n     <use xlink:href=\"#DejaVuSans-39\" x=\"222.65625\"/>\n    </g>\n   </g>\n   <g id=\"text_82\">\n    <!-- 0 -->\n    <g style=\"fill: #ffffff\" transform=\"translate(138.543906 467.690391)scale(0.12 -0.12)\">\n     <use xlink:href=\"#DejaVuSans-30\"/>\n    </g>\n   </g>\n   <g id=\"text_83\">\n    <!-- 0.087 -->\n    <g style=\"fill: #ffffff\" transform=\"translate(174.784531 467.690391)scale(0.12 -0.12)\">\n     <use xlink:href=\"#DejaVuSans-30\"/>\n     <use xlink:href=\"#DejaVuSans-2e\" x=\"63.623047\"/>\n     <use xlink:href=\"#DejaVuSans-30\" x=\"95.410156\"/>\n     <use xlink:href=\"#DejaVuSans-38\" x=\"159.033203\"/>\n     <use xlink:href=\"#DejaVuSans-37\" x=\"222.65625\"/>\n    </g>\n   </g>\n   <g id=\"text_84\">\n    <!-- 0.035 -->\n    <g style=\"fill: #ffffff\" transform=\"translate(224.384531 467.690391)scale(0.12 -0.12)\">\n     <use xlink:href=\"#DejaVuSans-30\"/>\n     <use xlink:href=\"#DejaVuSans-2e\" x=\"63.623047\"/>\n     <use xlink:href=\"#DejaVuSans-30\" x=\"95.410156\"/>\n     <use xlink:href=\"#DejaVuSans-33\" x=\"159.033203\"/>\n     <use xlink:href=\"#DejaVuSans-35\" x=\"222.65625\"/>\n    </g>\n   </g>\n   <g id=\"text_85\">\n    <!-- 0 -->\n    <g style=\"fill: #ffffff\" transform=\"translate(287.343906 467.690391)scale(0.12 -0.12)\">\n     <use xlink:href=\"#DejaVuSans-30\"/>\n    </g>\n   </g>\n   <g id=\"text_86\">\n    <!-- 0.038 -->\n    <g style=\"fill: #ffffff\" transform=\"translate(323.584531 467.690391)scale(0.12 -0.12)\">\n     <use xlink:href=\"#DejaVuSans-30\"/>\n     <use xlink:href=\"#DejaVuSans-2e\" x=\"63.623047\"/>\n     <use xlink:href=\"#DejaVuSans-30\" x=\"95.410156\"/>\n     <use xlink:href=\"#DejaVuSans-33\" x=\"159.033203\"/>\n     <use xlink:href=\"#DejaVuSans-38\" x=\"222.65625\"/>\n    </g>\n   </g>\n   <g id=\"text_87\">\n    <!-- 0 -->\n    <g style=\"fill: #ffffff\" transform=\"translate(386.543906 467.690391)scale(0.12 -0.12)\">\n     <use xlink:href=\"#DejaVuSans-30\"/>\n    </g>\n   </g>\n   <g id=\"text_88\">\n    <!-- 0 -->\n    <g style=\"fill: #ffffff\" transform=\"translate(436.143906 467.690391)scale(0.12 -0.12)\">\n     <use xlink:href=\"#DejaVuSans-30\"/>\n    </g>\n   </g>\n   <g id=\"text_89\">\n    <!-- 0 -->\n    <g style=\"fill: #ffffff\" transform=\"translate(485.743906 467.690391)scale(0.12 -0.12)\">\n     <use xlink:href=\"#DejaVuSans-30\"/>\n    </g>\n   </g>\n   <g id=\"text_90\">\n    <!-- 0.022 -->\n    <g style=\"fill: #ffffff\" transform=\"translate(521.984531 467.690391)scale(0.12 -0.12)\">\n     <use xlink:href=\"#DejaVuSans-30\"/>\n     <use xlink:href=\"#DejaVuSans-2e\" x=\"63.623047\"/>\n     <use xlink:href=\"#DejaVuSans-30\" x=\"95.410156\"/>\n     <use xlink:href=\"#DejaVuSans-32\" x=\"159.033203\"/>\n     <use xlink:href=\"#DejaVuSans-32\" x=\"222.65625\"/>\n    </g>\n   </g>\n   <g id=\"text_91\">\n    <!-- 0.11 -->\n    <g style=\"fill: #ffffff\" transform=\"translate(129.002031 528.090391)scale(0.12 -0.12)\">\n     <use xlink:href=\"#DejaVuSans-30\"/>\n     <use xlink:href=\"#DejaVuSans-2e\" x=\"63.623047\"/>\n     <use xlink:href=\"#DejaVuSans-31\" x=\"95.410156\"/>\n     <use xlink:href=\"#DejaVuSans-31\" x=\"159.033203\"/>\n    </g>\n   </g>\n   <g id=\"text_92\">\n    <!-- 0.22 -->\n    <g style=\"fill: #ffffff\" transform=\"translate(178.602031 528.090391)scale(0.12 -0.12)\">\n     <use xlink:href=\"#DejaVuSans-30\"/>\n     <use xlink:href=\"#DejaVuSans-2e\" x=\"63.623047\"/>\n     <use xlink:href=\"#DejaVuSans-32\" x=\"95.410156\"/>\n     <use xlink:href=\"#DejaVuSans-32\" x=\"159.033203\"/>\n    </g>\n   </g>\n   <g id=\"text_93\">\n    <!-- 0.13 -->\n    <g style=\"fill: #ffffff\" transform=\"translate(228.202031 528.090391)scale(0.12 -0.12)\">\n     <use xlink:href=\"#DejaVuSans-30\"/>\n     <use xlink:href=\"#DejaVuSans-2e\" x=\"63.623047\"/>\n     <use xlink:href=\"#DejaVuSans-31\" x=\"95.410156\"/>\n     <use xlink:href=\"#DejaVuSans-33\" x=\"159.033203\"/>\n    </g>\n   </g>\n   <g id=\"text_94\">\n    <!-- 1 -->\n    <g style=\"fill: #262626\" transform=\"translate(287.343906 528.090391)scale(0.12 -0.12)\">\n     <use xlink:href=\"#DejaVuSans-31\"/>\n    </g>\n   </g>\n   <g id=\"text_95\">\n    <!-- 0.38 -->\n    <g style=\"fill: #ffffff\" transform=\"translate(327.402031 528.090391)scale(0.12 -0.12)\">\n     <use xlink:href=\"#DejaVuSans-30\"/>\n     <use xlink:href=\"#DejaVuSans-2e\" x=\"63.623047\"/>\n     <use xlink:href=\"#DejaVuSans-33\" x=\"95.410156\"/>\n     <use xlink:href=\"#DejaVuSans-38\" x=\"159.033203\"/>\n    </g>\n   </g>\n   <g id=\"text_96\">\n    <!-- 0 -->\n    <g style=\"fill: #ffffff\" transform=\"translate(386.543906 528.090391)scale(0.12 -0.12)\">\n     <use xlink:href=\"#DejaVuSans-30\"/>\n    </g>\n   </g>\n   <g id=\"text_97\">\n    <!-- 0 -->\n    <g style=\"fill: #ffffff\" transform=\"translate(436.143906 528.090391)scale(0.12 -0.12)\">\n     <use xlink:href=\"#DejaVuSans-30\"/>\n    </g>\n   </g>\n   <g id=\"text_98\">\n    <!-- 0.25 -->\n    <g style=\"fill: #ffffff\" transform=\"translate(476.202031 528.090391)scale(0.12 -0.12)\">\n     <use xlink:href=\"#DejaVuSans-30\"/>\n     <use xlink:href=\"#DejaVuSans-2e\" x=\"63.623047\"/>\n     <use xlink:href=\"#DejaVuSans-32\" x=\"95.410156\"/>\n     <use xlink:href=\"#DejaVuSans-35\" x=\"159.033203\"/>\n    </g>\n   </g>\n   <g id=\"text_99\">\n    <!-- 0.46 -->\n    <g style=\"fill: #ffffff\" transform=\"translate(525.802031 528.090391)scale(0.12 -0.12)\">\n     <use xlink:href=\"#DejaVuSans-30\"/>\n     <use xlink:href=\"#DejaVuSans-2e\" x=\"63.623047\"/>\n     <use xlink:href=\"#DejaVuSans-34\" x=\"95.410156\"/>\n     <use xlink:href=\"#DejaVuSans-36\" x=\"159.033203\"/>\n    </g>\n   </g>\n  </g>\n  <g id=\"axes_2\">\n   <g id=\"patch_3\">\n    <path d=\"M 591.861406 554.979141 \nL 619.041406 554.979141 \nL 619.041406 11.379141 \nL 591.861406 11.379141 \nz\n\" style=\"fill: #eaeaf2\"/>\n   </g>\n   <g id=\"patch_4\">\n    <path clip-path=\"url(#pb2d7270a07)\" style=\"fill: #eaeaf2; stroke: #eaeaf2; stroke-width: 0.01; stroke-linejoin: miter\"/>\n   </g>\n   <g id=\"matplotlib.axis_3\">\n    <g id=\"ytick_10\">\n     <g id=\"line2d_1\">\n      <defs>\n       <path id=\"m9fc627a6f2\" d=\"M 0 0 \nL 6 0 \n\" style=\"stroke: #262626; stroke-width: 1.25\"/>\n      </defs>\n      <g>\n       <use xlink:href=\"#m9fc627a6f2\" x=\"619.041406\" y=\"554.979141\" style=\"fill: #262626; stroke: #262626; stroke-width: 1.25\"/>\n      </g>\n     </g>\n     <g id=\"text_100\">\n      <!-- 0.0 -->\n      <g style=\"fill: #262626\" transform=\"translate(628.541406 559.158281)scale(0.11 -0.11)\">\n       <use xlink:href=\"#DejaVuSans-30\"/>\n       <use xlink:href=\"#DejaVuSans-2e\" x=\"63.623047\"/>\n       <use xlink:href=\"#DejaVuSans-30\" x=\"95.410156\"/>\n      </g>\n     </g>\n    </g>\n    <g id=\"ytick_11\">\n     <g id=\"line2d_2\">\n      <g>\n       <use xlink:href=\"#m9fc627a6f2\" x=\"619.041406\" y=\"446.259141\" style=\"fill: #262626; stroke: #262626; stroke-width: 1.25\"/>\n      </g>\n     </g>\n     <g id=\"text_101\">\n      <!-- 0.2 -->\n      <g style=\"fill: #262626\" transform=\"translate(628.541406 450.438281)scale(0.11 -0.11)\">\n       <use xlink:href=\"#DejaVuSans-30\"/>\n       <use xlink:href=\"#DejaVuSans-2e\" x=\"63.623047\"/>\n       <use xlink:href=\"#DejaVuSans-32\" x=\"95.410156\"/>\n      </g>\n     </g>\n    </g>\n    <g id=\"ytick_12\">\n     <g id=\"line2d_3\">\n      <g>\n       <use xlink:href=\"#m9fc627a6f2\" x=\"619.041406\" y=\"337.539141\" style=\"fill: #262626; stroke: #262626; stroke-width: 1.25\"/>\n      </g>\n     </g>\n     <g id=\"text_102\">\n      <!-- 0.4 -->\n      <g style=\"fill: #262626\" transform=\"translate(628.541406 341.718281)scale(0.11 -0.11)\">\n       <use xlink:href=\"#DejaVuSans-30\"/>\n       <use xlink:href=\"#DejaVuSans-2e\" x=\"63.623047\"/>\n       <use xlink:href=\"#DejaVuSans-34\" x=\"95.410156\"/>\n      </g>\n     </g>\n    </g>\n    <g id=\"ytick_13\">\n     <g id=\"line2d_4\">\n      <g>\n       <use xlink:href=\"#m9fc627a6f2\" x=\"619.041406\" y=\"228.819141\" style=\"fill: #262626; stroke: #262626; stroke-width: 1.25\"/>\n      </g>\n     </g>\n     <g id=\"text_103\">\n      <!-- 0.6 -->\n      <g style=\"fill: #262626\" transform=\"translate(628.541406 232.998281)scale(0.11 -0.11)\">\n       <use xlink:href=\"#DejaVuSans-30\"/>\n       <use xlink:href=\"#DejaVuSans-2e\" x=\"63.623047\"/>\n       <use xlink:href=\"#DejaVuSans-36\" x=\"95.410156\"/>\n      </g>\n     </g>\n    </g>\n    <g id=\"ytick_14\">\n     <g id=\"line2d_5\">\n      <g>\n       <use xlink:href=\"#m9fc627a6f2\" x=\"619.041406\" y=\"120.099141\" style=\"fill: #262626; stroke: #262626; stroke-width: 1.25\"/>\n      </g>\n     </g>\n     <g id=\"text_104\">\n      <!-- 0.8 -->\n      <g style=\"fill: #262626\" transform=\"translate(628.541406 124.278281)scale(0.11 -0.11)\">\n       <use xlink:href=\"#DejaVuSans-30\"/>\n       <use xlink:href=\"#DejaVuSans-2e\" x=\"63.623047\"/>\n       <use xlink:href=\"#DejaVuSans-38\" x=\"95.410156\"/>\n      </g>\n     </g>\n    </g>\n    <g id=\"ytick_15\">\n     <g id=\"line2d_6\">\n      <g>\n       <use xlink:href=\"#m9fc627a6f2\" x=\"619.041406\" y=\"11.379141\" style=\"fill: #262626; stroke: #262626; stroke-width: 1.25\"/>\n      </g>\n     </g>\n     <g id=\"text_105\">\n      <!-- 1.0 -->\n      <g style=\"fill: #262626\" transform=\"translate(628.541406 15.558281)scale(0.11 -0.11)\">\n       <use xlink:href=\"#DejaVuSans-31\"/>\n       <use xlink:href=\"#DejaVuSans-2e\" x=\"63.623047\"/>\n       <use xlink:href=\"#DejaVuSans-30\" x=\"95.410156\"/>\n      </g>\n     </g>\n    </g>\n   </g>\n   <image xlink:href=\"data:image/png;base64,\niVBORw0KGgoAAAANSUhEUgAAABsAAAIfCAYAAACB2qdqAAACiUlEQVR4nO2cgW3YQBDD/M53ie6/ZzpECQEmyAUOsnQ6x0hyfv78/X1GvKtBz/M89wyHjZWdnbaUIdzzaJVpPXu1yrRpLCAI5qW2Rt/smVaZ2LP2DEB8PLXvINUVQnWFkGcIa89282r97w0znxhrQPIMIc8Q8gwhz743TP3eaFWWZwTVFUJpRMgzBK+yfmEIoTdihJYaoROD0J4h3OU08/FsqQFaagTvUpvTKG6QHTXI94aJl7roE5RGhL7wINQgCN4GKSAI3oCIPet4EuQZgnjPtN1YQBCqK4TSiFAaEUojgjeNRR/hvrP/CdVSQ3iXWuyZt0FKI4H5eGpPTNEnSBlCe4ZQGhG8ysbR1y61NiBmZdo0dmIISiOCN43r6O8SUvQRxHWlXer7/mr3bDisNCJ4W78Tg3CPNSDiuvIqK40EeYbgPZ73Hb7xiF8LzNHfsf6De61nWmXin8+8nmmVaT1bB2Q3rOgjeKNfGhFKI8I9ww+O7dn3hqkDYlVmrqvdsNKIoG6Q3bA8+94w72Ms+ggdTwT18dwNa88QvJ5tH+PTUgOkDEGsbDkuzxDyDMF8PK2P8Z7hr5TlGUKeIayVWT0rjQTq42kNiDn6Kft/1p9trcq8npmV7eZ1PBE6nghiz57h96Q8QxArO9YT4/WsukLwBsT73mj2rD0D6HgieD1rqRG8ATEfT/HHTa1nYmXaNIpbX6qsz7YIRR8hZQi98CDUIAhez3qMCNUVQsoQKmKEPEPwelZAELwBMSsrjQB5hpBnCObjqQ3IOT+zYXmGYFZmras8Q1h7Ju3GAoLQUiP0woNQGhHyDMHrWe8gCN6AiJf65BlAe4ZQNyKoj6f0MVbECC01greI/wHyDC/9wxX14wAAAABJRU5ErkJggg==\" id=\"image26fe10aa21\" transform=\"scale(1 -1)translate(0 -543)\" x=\"592\" y=\"-11\" width=\"27\" height=\"543\"/>\n   <g id=\"LineCollection_1\"/>\n   <g id=\"patch_5\">\n    <path d=\"M 591.861406 554.979141 \nL 605.451406 554.979141 \nL 619.041406 554.979141 \nL 619.041406 11.379141 \nL 605.451406 11.379141 \nL 591.861406 11.379141 \nL 591.861406 554.979141 \nz\n\" style=\"fill: none\"/>\n   </g>\n  </g>\n </g>\n <defs>\n  <clipPath id=\"p7522bca409\">\n   <rect x=\"117.561406\" y=\"11.379141\" width=\"446.4\" height=\"543.6\"/>\n  </clipPath>\n  <clipPath id=\"pb2d7270a07\">\n   <rect x=\"591.861406\" y=\"11.379141\" width=\"27.18\" height=\"543.6\"/>\n  </clipPath>\n </defs>\n</svg>\n",
      "text/plain": [
       "<Figure size 720x720 with 2 Axes>"
      ]
     },
     "metadata": {},
     "output_type": "display_data"
    }
   ],
   "source": [
    "plt.figure(figsize=(10,10))\n",
    "sns.heatmap(confusion_metrics[\"SVC(C=2, kernel='poly')\"], annot=True, xticklabels=label_encoder.classes_, yticklabels=label_encoder.classes_)"
   ]
  },
  {
   "cell_type": "code",
   "execution_count": 81,
   "id": "8c352059",
   "metadata": {},
   "outputs": [
    {
     "name": "stdout",
     "output_type": "stream",
     "text": [
      "Performance in model: DecisionTreeClassifier(max_depth=25)\n",
      "                    precision    recall  f1-score   support\n",
      "\n",
      "             anger       0.15      0.18      0.17       114\n",
      "      anticipation       0.24      0.33      0.28        64\n",
      "           disgust       0.55      0.58      0.57       327\n",
      "              fear       0.25      0.11      0.15        18\n",
      "               joy       0.27      0.26      0.26        70\n",
      "           sadness       0.00      0.00      0.00         6\n",
      "          surprise       0.21      0.17      0.19        24\n",
      "surprise,confusion       0.18      0.12      0.14        26\n",
      "             trust       0.54      0.41      0.47       162\n",
      "\n",
      "          accuracy                           0.40       811\n",
      "         macro avg       0.27      0.24      0.25       811\n",
      "      weighted avg       0.41      0.40      0.40       811\n",
      "\n",
      "Performance in model: RandomForestClassifier(criterion='entropy', max_depth=25, n_estimators=250)\n",
      "                    precision    recall  f1-score   support\n",
      "\n",
      "             anger       0.14      0.11      0.12       114\n",
      "      anticipation       0.29      0.25      0.27        64\n",
      "           disgust       0.54      0.68      0.60       327\n",
      "              fear       0.38      0.17      0.23        18\n",
      "               joy       0.35      0.23      0.28        70\n",
      "           sadness       0.00      0.00      0.00         6\n",
      "          surprise       0.25      0.21      0.23        24\n",
      "surprise,confusion       0.16      0.12      0.13        26\n",
      "             trust       0.54      0.54      0.54       162\n",
      "\n",
      "          accuracy                           0.45       811\n",
      "         macro avg       0.29      0.26      0.27       811\n",
      "      weighted avg       0.42      0.45      0.43       811\n",
      "\n",
      "Performance in model: SVC(C=2, kernel='poly')\n",
      "                    precision    recall  f1-score   support\n",
      "\n",
      "             anger       0.17      0.06      0.09       114\n",
      "      anticipation       0.31      0.06      0.10        64\n",
      "           disgust       0.47      0.87      0.61       327\n",
      "              fear       0.00      0.00      0.00        18\n",
      "               joy       0.23      0.07      0.11        70\n",
      "           sadness       0.00      0.00      0.00         6\n",
      "          surprise       0.43      0.12      0.19        24\n",
      "surprise,confusion       0.00      0.00      0.00        26\n",
      "             trust       0.46      0.31      0.37       162\n",
      "\n",
      "          accuracy                           0.44       811\n",
      "         macro avg       0.23      0.17      0.16       811\n",
      "      weighted avg       0.36      0.44      0.35       811\n",
      "\n"
     ]
    }
   ],
   "source": [
    "## Original metrics\n",
    "confusion_metrics = {}\n",
    "for model in models:\n",
    "    train_x, train_y = get_converted_data(trainx.apply(lambda x: clean_hashtags(x)), trainy)\n",
    "    test_x, test_y = get_converted_data(testx.apply(lambda x: clean_hashtags(x)), testy)\n",
    "    model.fit(train_x, train_y) \n",
    "    \n",
    "    outcome = model.predict(test_x)  # Make it test data\n",
    "    print(f\"Performance in model: {model}\")\n",
    "    print(metrics.classification_report(test_y, outcome, target_names=label_encoder.classes_, zero_division=True))\n",
    "    confusion_metrics[str(model).replace(\"()\", \"\")] = metrics.confusion_matrix(\n",
    "        test_y, \n",
    "        outcome,\n",
    "        normalize=\"pred\"\n",
    "    )"
   ]
  },
  {
   "cell_type": "code",
   "execution_count": null,
   "id": "0ce9d65b",
   "metadata": {},
   "outputs": [],
   "source": []
  }
 ],
 "metadata": {
  "kernelspec": {
   "display_name": "nanduenv",
   "language": "python",
   "name": "python3"
  },
  "language_info": {
   "codemirror_mode": {
    "name": "ipython",
    "version": 3
   },
   "file_extension": ".py",
   "mimetype": "text/x-python",
   "name": "python",
   "nbconvert_exporter": "python",
   "pygments_lexer": "ipython3",
   "version": "3.10.8 (main, Nov 14 2022, 00:00:00) [GCC 11.3.1 20220421 (Red Hat 11.3.1-3)]"
  },
  "vscode": {
   "interpreter": {
    "hash": "4c39b986fd03ec827e7efdf3d16573cab13e37e4b2a5afba1b9244c75afd6076"
   }
  }
 },
 "nbformat": 4,
 "nbformat_minor": 5
}
